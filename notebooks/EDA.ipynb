{
 "cells": [
  {
   "cell_type": "code",
   "execution_count": 59,
   "metadata": {},
   "outputs": [],
   "source": [
    "import pandas as pd\n",
    "import numpy as np\n",
    "import re\n",
    "import seaborn as sns\n",
    "import matplotlib.pyplot as plt\n",
    "from sklearn.model_selection import train_test_split\n",
    "from sklearn.preprocessing import OneHotEncoder\n",
    "from sklearn.linear_model import LogisticRegression\n",
    "from sklearn.feature_extraction.text import TfidfVectorizer\n",
    "from sklearn.metrics import accuracy_score,f1_score,recall_score,precision_score,classification_report\n",
    "import IPython.display\n",
    "from sklearn.multiclass import OneVsRestClassifier\n",
    "from nltk.stem import PorterStemmer\n",
    "\n",
    "import joblib\n",
    "import warnings\n",
    "from skmultilearn.model_selection import iterative_train_test_split\n",
    "warnings.filterwarnings('ignore')\n",
    "\n",
    "\n",
    "import pandas as pd\n",
    "import numpy as np\n",
    "from pandas.io.json import json_normalize\n",
    "import warnings\n",
    "warnings.filterwarnings(\"ignore\")\n",
    "import matplotlib.pyplot as plt\n",
    "import seaborn as sns\n",
    "from sklearn.preprocessing import OneHotEncoder\n",
    "import neattext as nt\n",
    "from neattext.functions import clean_text\n",
    "import neattext.functions as nfx\n",
    "#lematizer add\n",
    "\n",
    "\n",
    "\n",
    "\n",
    "from sklearn.model_selection import train_test_split\n",
    "from sklearn.feature_extraction.text import TfidfVectorizer\n",
    "from sklearn.linear_model import LogisticRegression\n",
    "from sklearn.metrics import f1_score\n",
    "from sklearn.metrics import roc_auc_score\n",
    "from sklearn.metrics import precision_score\n",
    "from sklearn.metrics import recall_score\n",
    "from sklearn.metrics import accuracy_score\n",
    "from sklearn.pipeline import Pipeline\n",
    "from sklearn.multiclass import OneVsRestClassifier\n",
    "from sklearn.linear_model import SGDClassifier\n",
    "from sklearn.svm import SVC\n",
    "from sklearn.naive_bayes import MultinomialNB\n",
    "\n",
    "\n",
    "\n",
    "from sklearn.datasets import make_multilabel_classification\n",
    "from iterstrat.ml_stratifiers import MultilabelStratifiedShuffleSplit\n",
    "from sklearn.utils import indexable, _safe_indexing\n",
    "from sklearn.utils.validation import _num_samples\n",
    "from sklearn.model_selection._split import _validate_shuffle_split\n",
    "from itertools import chain\n",
    "import joblib\n",
    "import warnings\n",
    "from skmultilearn.model_selection import iterative_train_test_split\n",
    "warnings.filterwarnings('ignore')\n",
    "\n",
    "\n",
    "from sklearn.model_selection import RandomizedSearchCV\n",
    "from sklearn.neighbors import KNeighborsClassifier\n",
    "from sklearn.svm import LinearSVC,SVC\n",
    "from sklearn.multioutput import MultiOutputClassifier\n",
    "from sklearn.model_selection import GridSearchCV\n",
    "import xgboost\n",
    "\n",
    "from skmultilearn.problem_transform import LabelPowerset\n",
    "from sklearn.ensemble import RandomForestClassifier\n",
    "\n",
    "import pandas as pd\n",
    "import numpy as np\n",
    "import matplotlib.pyplot as plt\n",
    "import seaborn as sns\n",
    "import re\n",
    "import warnings\n",
    "from sklearn.model_selection import train_test_split\n",
    "from sklearn.feature_extraction.text import TfidfVectorizer\n",
    "from sklearn.linear_model import LogisticRegression\n",
    "from sklearn.pipeline import Pipeline\n",
    "from sklearn.metrics import f1_score\n",
    "from sklearn.metrics import roc_auc_score\n",
    "from sklearn.metrics import precision_score\n",
    "from sklearn.metrics import recall_score\n",
    "from sklearn.metrics import accuracy_score\n",
    "from sklearn.multiclass import OneVsRestClassifier\n",
    "import nltk\n",
    "from nltk.corpus import stopwords\n",
    "from sklearn.linear_model import SGDClassifier\n",
    "import time\n",
    "warnings.filterwarnings(\"ignore\")\n",
    "from skmultilearn.problem_transform import LabelPowerset\n",
    "from sklearn.linear_model import SGDRegressor\n",
    "\n",
    "from sklearn.svm import LinearSVC\n",
    "from sklearn.linear_model import Perceptron\n",
    "\n",
    "from sklearn.linear_model import PassiveAggressiveClassifier\n",
    "                                                                         \n",
    "from sklearn.neural_network import MLPClassifier\n",
    "from pandas.io.json import json_normalize\n",
    "import neattext as nfx\n",
    "import neattext.functions as nfx \n",
    "\n",
    "\n",
    "from sklearn.svm import SVC\n",
    "\n"
   ]
  },
  {
   "cell_type": "markdown",
   "metadata": {},
   "source": [
    "# Prepare Dataset"
   ]
  },
  {
   "cell_type": "code",
   "execution_count": 60,
   "id": "c9f9f273",
   "metadata": {
    "id": "c9f9f273"
   },
   "outputs": [],
   "source": [
    "e_comerce_data = pd.read_json(\"models/data/products.json\")\n"
   ]
  },
  {
   "cell_type": "code",
   "execution_count": 61,
   "id": "95ba1a1c",
   "metadata": {
    "id": "95ba1a1c"
   },
   "outputs": [],
   "source": [
    "e_comerce_df = e_comerce_data[[\"name\",\"description\",\"category\"]]"
   ]
  },
  {
   "cell_type": "code",
   "execution_count": 62,
   "id": "7f7426c1",
   "metadata": {
    "colab": {
     "base_uri": "https://localhost:8080/",
     "height": 250
    },
    "id": "7f7426c1",
    "outputId": "1111a496-f44e-4328-dff9-fa463d76a9db"
   },
   "outputs": [
    {
     "data": {
      "text/html": [
       "<div>\n",
       "<style scoped>\n",
       "    .dataframe tbody tr th:only-of-type {\n",
       "        vertical-align: middle;\n",
       "    }\n",
       "\n",
       "    .dataframe tbody tr th {\n",
       "        vertical-align: top;\n",
       "    }\n",
       "\n",
       "    .dataframe thead th {\n",
       "        text-align: right;\n",
       "    }\n",
       "</style>\n",
       "<table border=\"1\" class=\"dataframe\">\n",
       "  <thead>\n",
       "    <tr style=\"text-align: right;\">\n",
       "      <th></th>\n",
       "      <th>name</th>\n",
       "      <th>description</th>\n",
       "      <th>category</th>\n",
       "      <th>number_of_categories</th>\n",
       "    </tr>\n",
       "  </thead>\n",
       "  <tbody>\n",
       "    <tr>\n",
       "      <th>0</th>\n",
       "      <td>Duracell - AAA Batteries (4-Pack)</td>\n",
       "      <td>Compatible with select electronic devices; AAA...</td>\n",
       "      <td>[{'id': 'pcmcat312300050015', 'name': 'Connect...</td>\n",
       "      <td>4</td>\n",
       "    </tr>\n",
       "    <tr>\n",
       "      <th>1</th>\n",
       "      <td>Duracell - AA 1.5V CopperTop Batteries (4-Pack)</td>\n",
       "      <td>Long-lasting energy; DURALOCK Power Preserve t...</td>\n",
       "      <td>[{'id': 'pcmcat312300050015', 'name': 'Connect...</td>\n",
       "      <td>4</td>\n",
       "    </tr>\n",
       "    <tr>\n",
       "      <th>2</th>\n",
       "      <td>Duracell - AA Batteries (8-Pack)</td>\n",
       "      <td>Compatible with select electronic devices; AA ...</td>\n",
       "      <td>[{'id': 'pcmcat312300050015', 'name': 'Connect...</td>\n",
       "      <td>4</td>\n",
       "    </tr>\n",
       "    <tr>\n",
       "      <th>3</th>\n",
       "      <td>Energizer - MAX Batteries AA (4-Pack)</td>\n",
       "      <td>4-pack AA alkaline batteries; battery tester i...</td>\n",
       "      <td>[{'id': 'pcmcat312300050015', 'name': 'Connect...</td>\n",
       "      <td>4</td>\n",
       "    </tr>\n",
       "    <tr>\n",
       "      <th>4</th>\n",
       "      <td>Duracell - C Batteries (4-Pack)</td>\n",
       "      <td>Compatible with select electronic devices; C s...</td>\n",
       "      <td>[{'id': 'pcmcat312300050015', 'name': 'Connect...</td>\n",
       "      <td>4</td>\n",
       "    </tr>\n",
       "  </tbody>\n",
       "</table>\n",
       "</div>"
      ],
      "text/plain": [
       "                                              name  \\\n",
       "0                Duracell - AAA Batteries (4-Pack)   \n",
       "1  Duracell - AA 1.5V CopperTop Batteries (4-Pack)   \n",
       "2                 Duracell - AA Batteries (8-Pack)   \n",
       "3            Energizer - MAX Batteries AA (4-Pack)   \n",
       "4                  Duracell - C Batteries (4-Pack)   \n",
       "\n",
       "                                         description  \\\n",
       "0  Compatible with select electronic devices; AAA...   \n",
       "1  Long-lasting energy; DURALOCK Power Preserve t...   \n",
       "2  Compatible with select electronic devices; AA ...   \n",
       "3  4-pack AA alkaline batteries; battery tester i...   \n",
       "4  Compatible with select electronic devices; C s...   \n",
       "\n",
       "                                            category  number_of_categories  \n",
       "0  [{'id': 'pcmcat312300050015', 'name': 'Connect...                     4  \n",
       "1  [{'id': 'pcmcat312300050015', 'name': 'Connect...                     4  \n",
       "2  [{'id': 'pcmcat312300050015', 'name': 'Connect...                     4  \n",
       "3  [{'id': 'pcmcat312300050015', 'name': 'Connect...                     4  \n",
       "4  [{'id': 'pcmcat312300050015', 'name': 'Connect...                     4  "
      ]
     },
     "execution_count": 62,
     "metadata": {},
     "output_type": "execute_result"
    }
   ],
   "source": [
    "e_comerce_df['number_of_categories'] = e_comerce_df['category'].apply(lambda x: len(x))\n",
    "e_comerce_df.head()"
   ]
  },
  {
   "cell_type": "code",
   "execution_count": 63,
   "id": "d434f9d6",
   "metadata": {
    "colab": {
     "base_uri": "https://localhost:8080/",
     "height": 641
    },
    "id": "d434f9d6",
    "outputId": "75eaf292-cc5d-4dfb-931e-e2a2a6bdd8c9"
   },
   "outputs": [
    {
     "data": {
      "text/html": [
       "<div>\n",
       "<style scoped>\n",
       "    .dataframe tbody tr th:only-of-type {\n",
       "        vertical-align: middle;\n",
       "    }\n",
       "\n",
       "    .dataframe tbody tr th {\n",
       "        vertical-align: top;\n",
       "    }\n",
       "\n",
       "    .dataframe thead th {\n",
       "        text-align: right;\n",
       "    }\n",
       "</style>\n",
       "<table border=\"1\" class=\"dataframe\">\n",
       "  <thead>\n",
       "    <tr style=\"text-align: right;\">\n",
       "      <th></th>\n",
       "      <th>index</th>\n",
       "      <th>name</th>\n",
       "      <th>description</th>\n",
       "      <th>category</th>\n",
       "      <th>number_of_categories</th>\n",
       "    </tr>\n",
       "  </thead>\n",
       "  <tbody>\n",
       "    <tr>\n",
       "      <th>0</th>\n",
       "      <td>0</td>\n",
       "      <td>Duracell - AAA Batteries (4-Pack)</td>\n",
       "      <td>Compatible with select electronic devices; AAA...</td>\n",
       "      <td>[{'id': 'pcmcat312300050015', 'name': 'Connect...</td>\n",
       "      <td>4</td>\n",
       "    </tr>\n",
       "    <tr>\n",
       "      <th>1</th>\n",
       "      <td>1</td>\n",
       "      <td>Duracell - AA 1.5V CopperTop Batteries (4-Pack)</td>\n",
       "      <td>Long-lasting energy; DURALOCK Power Preserve t...</td>\n",
       "      <td>[{'id': 'pcmcat312300050015', 'name': 'Connect...</td>\n",
       "      <td>4</td>\n",
       "    </tr>\n",
       "    <tr>\n",
       "      <th>2</th>\n",
       "      <td>2</td>\n",
       "      <td>Duracell - AA Batteries (8-Pack)</td>\n",
       "      <td>Compatible with select electronic devices; AA ...</td>\n",
       "      <td>[{'id': 'pcmcat312300050015', 'name': 'Connect...</td>\n",
       "      <td>4</td>\n",
       "    </tr>\n",
       "    <tr>\n",
       "      <th>3</th>\n",
       "      <td>3</td>\n",
       "      <td>Energizer - MAX Batteries AA (4-Pack)</td>\n",
       "      <td>4-pack AA alkaline batteries; battery tester i...</td>\n",
       "      <td>[{'id': 'pcmcat312300050015', 'name': 'Connect...</td>\n",
       "      <td>4</td>\n",
       "    </tr>\n",
       "    <tr>\n",
       "      <th>4</th>\n",
       "      <td>4</td>\n",
       "      <td>Duracell - C Batteries (4-Pack)</td>\n",
       "      <td>Compatible with select electronic devices; C s...</td>\n",
       "      <td>[{'id': 'pcmcat312300050015', 'name': 'Connect...</td>\n",
       "      <td>4</td>\n",
       "    </tr>\n",
       "    <tr>\n",
       "      <th>...</th>\n",
       "      <td>...</td>\n",
       "      <td>...</td>\n",
       "      <td>...</td>\n",
       "      <td>...</td>\n",
       "      <td>...</td>\n",
       "    </tr>\n",
       "    <tr>\n",
       "      <th>48553</th>\n",
       "      <td>51641</td>\n",
       "      <td>Honeywell - True HEPA Replacement Filters for ...</td>\n",
       "      <td>Compatible with select Honeywell air purifier ...</td>\n",
       "      <td>[{'id': 'abcat0900000', 'name': 'Appliances'},...</td>\n",
       "      <td>3</td>\n",
       "    </tr>\n",
       "    <tr>\n",
       "      <th>48554</th>\n",
       "      <td>51642</td>\n",
       "      <td>Dyson - Hard Floor Wipes for Dyson Hard DC56 V...</td>\n",
       "      <td>Removes dirt and grime from hard floors; cloth...</td>\n",
       "      <td>[{'id': 'abcat0900000', 'name': 'Appliances'},...</td>\n",
       "      <td>4</td>\n",
       "    </tr>\n",
       "    <tr>\n",
       "      <th>48555</th>\n",
       "      <td>51643</td>\n",
       "      <td>Aleratec - Drive Enclosure - Internal - Black</td>\n",
       "      <td>1 x Total Bay - 1 x 2.5\" Bay</td>\n",
       "      <td>[{'id': 'abcat0500000', 'name': 'Computers &amp; T...</td>\n",
       "      <td>4</td>\n",
       "    </tr>\n",
       "    <tr>\n",
       "      <th>48556</th>\n",
       "      <td>51644</td>\n",
       "      <td>Amazon - Fire TV Stick</td>\n",
       "      <td>Streams 1080p content; dual-band, dual-antenna...</td>\n",
       "      <td>[{'id': 'abcat0100000', 'name': 'TV &amp; Home The...</td>\n",
       "      <td>3</td>\n",
       "    </tr>\n",
       "    <tr>\n",
       "      <th>48557</th>\n",
       "      <td>51645</td>\n",
       "      <td>Proctor Silex - 4-Slice Toaster Oven - White</td>\n",
       "      <td>PROCTOR SILEX 4-Slice Toaster Oven: Bake, broi...</td>\n",
       "      <td>[{'id': 'abcat0900000', 'name': 'Appliances'},...</td>\n",
       "      <td>3</td>\n",
       "    </tr>\n",
       "  </tbody>\n",
       "</table>\n",
       "<p>48558 rows × 5 columns</p>\n",
       "</div>"
      ],
      "text/plain": [
       "       index                                               name  \\\n",
       "0          0                  Duracell - AAA Batteries (4-Pack)   \n",
       "1          1    Duracell - AA 1.5V CopperTop Batteries (4-Pack)   \n",
       "2          2                   Duracell - AA Batteries (8-Pack)   \n",
       "3          3              Energizer - MAX Batteries AA (4-Pack)   \n",
       "4          4                    Duracell - C Batteries (4-Pack)   \n",
       "...      ...                                                ...   \n",
       "48553  51641  Honeywell - True HEPA Replacement Filters for ...   \n",
       "48554  51642  Dyson - Hard Floor Wipes for Dyson Hard DC56 V...   \n",
       "48555  51643      Aleratec - Drive Enclosure - Internal - Black   \n",
       "48556  51644                             Amazon - Fire TV Stick   \n",
       "48557  51645       Proctor Silex - 4-Slice Toaster Oven - White   \n",
       "\n",
       "                                             description  \\\n",
       "0      Compatible with select electronic devices; AAA...   \n",
       "1      Long-lasting energy; DURALOCK Power Preserve t...   \n",
       "2      Compatible with select electronic devices; AA ...   \n",
       "3      4-pack AA alkaline batteries; battery tester i...   \n",
       "4      Compatible with select electronic devices; C s...   \n",
       "...                                                  ...   \n",
       "48553  Compatible with select Honeywell air purifier ...   \n",
       "48554  Removes dirt and grime from hard floors; cloth...   \n",
       "48555                       1 x Total Bay - 1 x 2.5\" Bay   \n",
       "48556  Streams 1080p content; dual-band, dual-antenna...   \n",
       "48557  PROCTOR SILEX 4-Slice Toaster Oven: Bake, broi...   \n",
       "\n",
       "                                                category  number_of_categories  \n",
       "0      [{'id': 'pcmcat312300050015', 'name': 'Connect...                     4  \n",
       "1      [{'id': 'pcmcat312300050015', 'name': 'Connect...                     4  \n",
       "2      [{'id': 'pcmcat312300050015', 'name': 'Connect...                     4  \n",
       "3      [{'id': 'pcmcat312300050015', 'name': 'Connect...                     4  \n",
       "4      [{'id': 'pcmcat312300050015', 'name': 'Connect...                     4  \n",
       "...                                                  ...                   ...  \n",
       "48553  [{'id': 'abcat0900000', 'name': 'Appliances'},...                     3  \n",
       "48554  [{'id': 'abcat0900000', 'name': 'Appliances'},...                     4  \n",
       "48555  [{'id': 'abcat0500000', 'name': 'Computers & T...                     4  \n",
       "48556  [{'id': 'abcat0100000', 'name': 'TV & Home The...                     3  \n",
       "48557  [{'id': 'abcat0900000', 'name': 'Appliances'},...                     3  \n",
       "\n",
       "[48558 rows x 5 columns]"
      ]
     },
     "execution_count": 63,
     "metadata": {},
     "output_type": "execute_result"
    }
   ],
   "source": [
    "products_df = e_comerce_df[~e_comerce_df[\"name\"].duplicated()].sort_values(by=['number_of_categories'],ascending=False) \n",
    "products_df.sort_index(inplace=True)\n",
    "products_df.reset_index(inplace=True)\n",
    "\n",
    "products_df\n"
   ]
  },
  {
   "cell_type": "code",
   "execution_count": 64,
   "id": "f6b9f806",
   "metadata": {
    "id": "f6b9f806"
   },
   "outputs": [],
   "source": [
    "\n",
    "products_df.drop(['index'], axis=1, inplace=True)\n",
    "products_df.reset_index(inplace=True)"
   ]
  },
  {
   "cell_type": "code",
   "execution_count": 65,
   "id": "8c58b0cc",
   "metadata": {
    "id": "8c58b0cc"
   },
   "outputs": [],
   "source": [
    "products_df.drop(['index'], axis=1, inplace=True)"
   ]
  },
  {
   "cell_type": "code",
   "execution_count": 66,
   "id": "b1f590da",
   "metadata": {
    "id": "b1f590da"
   },
   "outputs": [],
   "source": [
    "df_list = []\n",
    "for i in range(len(products_df)):\n",
    "    df_norm = json_normalize(products_df[\"category\"][i])\n",
    "    df_norm = df_norm.transpose()\n",
    "    df_norm = df_norm.drop([\"id\"])\n",
    "    df_norm = df_norm.rename(index={\"name\": i})\n",
    "    df_list.append(df_norm)\n",
    "df_category = pd.concat(df_list)\n",
    "products_df = products_df.join(df_category)\n",
    "\n",
    "\n",
    "\n"
   ]
  },
  {
   "cell_type": "code",
   "execution_count": 67,
   "id": "e9dfe3d2",
   "metadata": {
    "id": "e9dfe3d2"
   },
   "outputs": [],
   "source": [
    "products_df.rename(columns={6: \"6nd Subcategory\", 5: \"5nd Subcategory\"}, inplace=True)"
   ]
  },
  {
   "cell_type": "code",
   "execution_count": 68,
   "id": "d3573021",
   "metadata": {
    "id": "d3573021"
   },
   "outputs": [],
   "source": [
    "products_df = products_df.drop([\"6nd Subcategory\",\"5nd Subcategory\"], axis=1)"
   ]
  },
  {
   "cell_type": "code",
   "execution_count": 69,
   "id": "e18bbd00",
   "metadata": {
    "id": "e18bbd00"
   },
   "outputs": [],
   "source": [
    "products_df[products_df['name'].isnull()]\n",
    "products = products_df.drop(products_df.name.index[[38130]])\n",
    "products.reset_index(inplace=True, drop= True)"
   ]
  },
  {
   "cell_type": "code",
   "execution_count": 70,
   "id": "16458744",
   "metadata": {
    "id": "16458744"
   },
   "outputs": [],
   "source": [
    "counts = products[4].value_counts()\n",
    "products = products[~products[4].isin(counts[counts <= 5].index)]\n",
    "products.reset_index(inplace=True, drop= True)"
   ]
  },
  {
   "cell_type": "code",
   "execution_count": 71,
   "id": "9e557d78",
   "metadata": {
    "id": "9e557d78"
   },
   "outputs": [],
   "source": [
    "counts = products[3].value_counts()\n",
    "products = products[~products[3].isin(counts[counts <= 15].index)]\n",
    "products.reset_index(inplace=True, drop= True)"
   ]
  },
  {
   "cell_type": "code",
   "execution_count": 72,
   "id": "282a1075",
   "metadata": {
    "id": "282a1075"
   },
   "outputs": [],
   "source": [
    "counts = products[2].value_counts()\n",
    "products = products[~products[2].isin(counts[counts <= 10].index)]\n",
    "products.reset_index(inplace=True, drop= True)"
   ]
  },
  {
   "cell_type": "code",
   "execution_count": 73,
   "id": "784edffb",
   "metadata": {
    "id": "784edffb"
   },
   "outputs": [],
   "source": [
    "counts = products[1].value_counts()\n",
    "products = products[~products[1].isin(counts[counts <= 10].index)]\n",
    "products.reset_index(inplace=True, drop= True)"
   ]
  },
  {
   "cell_type": "code",
   "execution_count": 74,
   "id": "833adfb4",
   "metadata": {
    "id": "833adfb4"
   },
   "outputs": [],
   "source": [
    "counts = products[0].value_counts()\n",
    "products = products[~products[0].isin(counts[counts <= 2].index)]\n",
    "products.reset_index(inplace=True, drop= True)"
   ]
  },
  {
   "cell_type": "code",
   "execution_count": 75,
   "id": "fc8134f4",
   "metadata": {
    "colab": {
     "base_uri": "https://localhost:8080/"
    },
    "id": "fc8134f4",
    "outputId": "d320494d-b55d-4fc6-bcc5-bd72c01adf42"
   },
   "outputs": [],
   "source": [
    "category_0 = products[0]\n",
    "category_1 = products[1]\n",
    "category_2 = products[2]\n",
    "category_3 = products[3]\n",
    "category_4 = products[4]\n",
    "\n",
    "\n",
    "cates = np.concatenate([category_0, category_1, category_2,category_3,category_4])\n",
    "cates = list(dict.fromkeys(cates))\n",
    "cates = [x for x in cates if x is not None]\n"
   ]
  },
  {
   "cell_type": "code",
   "execution_count": 76,
   "id": "74960e0d",
   "metadata": {
    "id": "74960e0d"
   },
   "outputs": [],
   "source": [
    "categories = products[[0, 1, 2, 3, 4]]"
   ]
  },
  {
   "cell_type": "code",
   "execution_count": 77,
   "id": "c871bb53",
   "metadata": {
    "colab": {
     "base_uri": "https://localhost:8080/",
     "height": 525
    },
    "id": "c871bb53",
    "outputId": "c55127dd-f6c7-4174-f4de-f7f08054205e"
   },
   "outputs": [
    {
     "data": {
      "text/html": [
       "<div>\n",
       "<style scoped>\n",
       "    .dataframe tbody tr th:only-of-type {\n",
       "        vertical-align: middle;\n",
       "    }\n",
       "\n",
       "    .dataframe tbody tr th {\n",
       "        vertical-align: top;\n",
       "    }\n",
       "\n",
       "    .dataframe thead th {\n",
       "        text-align: right;\n",
       "    }\n",
       "</style>\n",
       "<table border=\"1\" class=\"dataframe\">\n",
       "  <thead>\n",
       "    <tr style=\"text-align: right;\">\n",
       "      <th></th>\n",
       "      <th>0</th>\n",
       "      <th>1</th>\n",
       "      <th>2</th>\n",
       "      <th>3</th>\n",
       "      <th>4</th>\n",
       "      <th>Connected Home &amp; Housewares</th>\n",
       "      <th>Carfi Instore Only</th>\n",
       "      <th>Car Electronics &amp; GPS</th>\n",
       "      <th>In-Store Only</th>\n",
       "      <th>Musical Instruments</th>\n",
       "      <th>...</th>\n",
       "      <th>Fountains &amp; Bird Baths</th>\n",
       "      <th>A/V Couplers</th>\n",
       "      <th>Smartwatch Cables</th>\n",
       "      <th>Dart Board Cabinets</th>\n",
       "      <th>iPhone 6s Plus Cases</th>\n",
       "      <th>iPhone 6s Cases</th>\n",
       "      <th>Coffee Beans</th>\n",
       "      <th>Outdoor Accessories</th>\n",
       "      <th>More Microphones</th>\n",
       "      <th>Gaming Mice</th>\n",
       "    </tr>\n",
       "  </thead>\n",
       "  <tbody>\n",
       "    <tr>\n",
       "      <th>0</th>\n",
       "      <td>Connected Home &amp; Housewares</td>\n",
       "      <td>Housewares</td>\n",
       "      <td>Household Batteries</td>\n",
       "      <td>Alkaline Batteries</td>\n",
       "      <td>0</td>\n",
       "      <td>0</td>\n",
       "      <td>0</td>\n",
       "      <td>0</td>\n",
       "      <td>0</td>\n",
       "      <td>0</td>\n",
       "      <td>...</td>\n",
       "      <td>0</td>\n",
       "      <td>0</td>\n",
       "      <td>0</td>\n",
       "      <td>0</td>\n",
       "      <td>0</td>\n",
       "      <td>0</td>\n",
       "      <td>0</td>\n",
       "      <td>0</td>\n",
       "      <td>0</td>\n",
       "      <td>0</td>\n",
       "    </tr>\n",
       "    <tr>\n",
       "      <th>1</th>\n",
       "      <td>Connected Home &amp; Housewares</td>\n",
       "      <td>Housewares</td>\n",
       "      <td>Household Batteries</td>\n",
       "      <td>Alkaline Batteries</td>\n",
       "      <td>0</td>\n",
       "      <td>0</td>\n",
       "      <td>0</td>\n",
       "      <td>0</td>\n",
       "      <td>0</td>\n",
       "      <td>0</td>\n",
       "      <td>...</td>\n",
       "      <td>0</td>\n",
       "      <td>0</td>\n",
       "      <td>0</td>\n",
       "      <td>0</td>\n",
       "      <td>0</td>\n",
       "      <td>0</td>\n",
       "      <td>0</td>\n",
       "      <td>0</td>\n",
       "      <td>0</td>\n",
       "      <td>0</td>\n",
       "    </tr>\n",
       "    <tr>\n",
       "      <th>2</th>\n",
       "      <td>Connected Home &amp; Housewares</td>\n",
       "      <td>Housewares</td>\n",
       "      <td>Household Batteries</td>\n",
       "      <td>Alkaline Batteries</td>\n",
       "      <td>0</td>\n",
       "      <td>0</td>\n",
       "      <td>0</td>\n",
       "      <td>0</td>\n",
       "      <td>0</td>\n",
       "      <td>0</td>\n",
       "      <td>...</td>\n",
       "      <td>0</td>\n",
       "      <td>0</td>\n",
       "      <td>0</td>\n",
       "      <td>0</td>\n",
       "      <td>0</td>\n",
       "      <td>0</td>\n",
       "      <td>0</td>\n",
       "      <td>0</td>\n",
       "      <td>0</td>\n",
       "      <td>0</td>\n",
       "    </tr>\n",
       "    <tr>\n",
       "      <th>3</th>\n",
       "      <td>Connected Home &amp; Housewares</td>\n",
       "      <td>Housewares</td>\n",
       "      <td>Household Batteries</td>\n",
       "      <td>Alkaline Batteries</td>\n",
       "      <td>0</td>\n",
       "      <td>0</td>\n",
       "      <td>0</td>\n",
       "      <td>0</td>\n",
       "      <td>0</td>\n",
       "      <td>0</td>\n",
       "      <td>...</td>\n",
       "      <td>0</td>\n",
       "      <td>0</td>\n",
       "      <td>0</td>\n",
       "      <td>0</td>\n",
       "      <td>0</td>\n",
       "      <td>0</td>\n",
       "      <td>0</td>\n",
       "      <td>0</td>\n",
       "      <td>0</td>\n",
       "      <td>0</td>\n",
       "    </tr>\n",
       "    <tr>\n",
       "      <th>4</th>\n",
       "      <td>Connected Home &amp; Housewares</td>\n",
       "      <td>Housewares</td>\n",
       "      <td>Household Batteries</td>\n",
       "      <td>Alkaline Batteries</td>\n",
       "      <td>0</td>\n",
       "      <td>0</td>\n",
       "      <td>0</td>\n",
       "      <td>0</td>\n",
       "      <td>0</td>\n",
       "      <td>0</td>\n",
       "      <td>...</td>\n",
       "      <td>0</td>\n",
       "      <td>0</td>\n",
       "      <td>0</td>\n",
       "      <td>0</td>\n",
       "      <td>0</td>\n",
       "      <td>0</td>\n",
       "      <td>0</td>\n",
       "      <td>0</td>\n",
       "      <td>0</td>\n",
       "      <td>0</td>\n",
       "    </tr>\n",
       "  </tbody>\n",
       "</table>\n",
       "<p>5 rows × 892 columns</p>\n",
       "</div>"
      ],
      "text/plain": [
       "                             0           1                    2  \\\n",
       "0  Connected Home & Housewares  Housewares  Household Batteries   \n",
       "1  Connected Home & Housewares  Housewares  Household Batteries   \n",
       "2  Connected Home & Housewares  Housewares  Household Batteries   \n",
       "3  Connected Home & Housewares  Housewares  Household Batteries   \n",
       "4  Connected Home & Housewares  Housewares  Household Batteries   \n",
       "\n",
       "                    3  4  Connected Home & Housewares  Carfi Instore Only  \\\n",
       "0  Alkaline Batteries  0                            0                   0   \n",
       "1  Alkaline Batteries  0                            0                   0   \n",
       "2  Alkaline Batteries  0                            0                   0   \n",
       "3  Alkaline Batteries  0                            0                   0   \n",
       "4  Alkaline Batteries  0                            0                   0   \n",
       "\n",
       "   Car Electronics & GPS  In-Store Only  Musical Instruments  ...  \\\n",
       "0                      0              0                    0  ...   \n",
       "1                      0              0                    0  ...   \n",
       "2                      0              0                    0  ...   \n",
       "3                      0              0                    0  ...   \n",
       "4                      0              0                    0  ...   \n",
       "\n",
       "   Fountains & Bird Baths  A/V Couplers  Smartwatch Cables  \\\n",
       "0                       0             0                  0   \n",
       "1                       0             0                  0   \n",
       "2                       0             0                  0   \n",
       "3                       0             0                  0   \n",
       "4                       0             0                  0   \n",
       "\n",
       "   Dart Board Cabinets  iPhone 6s Plus Cases  iPhone 6s Cases  Coffee Beans  \\\n",
       "0                    0                     0                0             0   \n",
       "1                    0                     0                0             0   \n",
       "2                    0                     0                0             0   \n",
       "3                    0                     0                0             0   \n",
       "4                    0                     0                0             0   \n",
       "\n",
       "   Outdoor Accessories  More Microphones  Gaming Mice  \n",
       "0                    0                 0            0  \n",
       "1                    0                 0            0  \n",
       "2                    0                 0            0  \n",
       "3                    0                 0            0  \n",
       "4                    0                 0            0  \n",
       "\n",
       "[5 rows x 892 columns]"
      ]
     },
     "execution_count": 77,
     "metadata": {},
     "output_type": "execute_result"
    }
   ],
   "source": [
    "cat = pd.concat([categories,pd.DataFrame(columns = list(cates))]) \n",
    "cat.fillna(0, inplace = True) \n",
    "cat.head()"
   ]
  },
  {
   "cell_type": "code",
   "execution_count": 78,
   "id": "7f699024",
   "metadata": {
    "id": "7f699024"
   },
   "outputs": [],
   "source": [
    "for i in range(5):\n",
    "  row = 0\n",
    "  for category in cat[i]:\n",
    "    if category!= 0:\n",
    "      cat.loc[row,category] = 1 \n",
    "    row = row + 1\n"
   ]
  },
  {
   "cell_type": "markdown",
   "id": "ba1b3e19",
   "metadata": {
    "id": "ba1b3e19"
   },
   "source": [
    "# Analysis\n"
   ]
  },
  {
   "cell_type": "code",
   "execution_count": 79,
   "id": "a04b3097",
   "metadata": {
    "colab": {
     "base_uri": "https://localhost:8080/",
     "height": 664
    },
    "id": "a04b3097",
    "outputId": "bc8682de-508a-4bf4-d4a6-dce55b00eafe",
    "scrolled": false
   },
   "outputs": [],
   "source": [
    "df2 = pd.concat([products['name'],products['description'],products['number_of_categories'],cat.loc[:,\"Connected Home & Housewares\":]],axis=1) \n"
   ]
  },
  {
   "cell_type": "code",
   "execution_count": 80,
   "id": "9907a9f6",
   "metadata": {
    "colab": {
     "base_uri": "https://localhost:8080/"
    },
    "id": "9907a9f6",
    "outputId": "a0726fd6-e043-4f69-ba23-04d1ad4d265c"
   },
   "outputs": [
    {
     "data": {
      "text/plain": [
       "name                        0\n",
       "description                 0\n",
       "category                    0\n",
       "number_of_categories        0\n",
       "0                           0\n",
       "1                         664\n",
       "2                        6398\n",
       "3                       23244\n",
       "4                       40130\n",
       "dtype: int64"
      ]
     },
     "execution_count": 80,
     "metadata": {},
     "output_type": "execute_result"
    }
   ],
   "source": [
    "products.isna().sum()"
   ]
  },
  {
   "cell_type": "code",
   "execution_count": 81,
   "id": "6de34e56",
   "metadata": {
    "colab": {
     "base_uri": "https://localhost:8080/"
    },
    "id": "6de34e56",
    "outputId": "bcb7f661-d6f3-4904-e8fa-77e14d2d07c1"
   },
   "outputs": [
    {
     "name": "stdout",
     "output_type": "stream",
     "text": [
      "Number max to categories by product:  7\n",
      "Number min to categories by product:  1\n",
      "average to categories by product:  3\n"
     ]
    }
   ],
   "source": [
    "print('Number max to categories by product: ',products.number_of_categories.max())\n",
    "print('Number min to categories by product: ',products.number_of_categories.min())\n",
    "print('average to categories by product: ',round(products.number_of_categories.mean()))"
   ]
  },
  {
   "cell_type": "code",
   "execution_count": 82,
   "metadata": {},
   "outputs": [
    {
     "data": {
      "text/plain": [
       "[Text(0, 0, '698'),\n",
       " Text(0, 0, '5790'),\n",
       " Text(0, 0, '17759'),\n",
       " Text(0, 0, '19004'),\n",
       " Text(0, 0, '4973'),\n",
       " Text(0, 0, '333'),\n",
       " Text(0, 0, '1')]"
      ]
     },
     "execution_count": 82,
     "metadata": {},
     "output_type": "execute_result"
    },
    {
     "data": {
      "image/png": "[encoded data removed]",
      "text/plain": [
       "<Figure size 864x576 with 1 Axes>"
      ]
     },
     "metadata": {},
     "output_type": "display_data"
    }
   ],
   "source": [
    "counts = products_df['number_of_categories'].value_counts().rename_axis('Amount of categories').reset_index(name='Count')\n",
    "sns.set(rc={\"figure.figsize\":(12, 8)})\n",
    "ax = sns.barplot(x='Amount of categories', y='Count', data=counts)\n",
    "ax.bar_label(ax.containers[0])"
   ]
  },
  {
   "cell_type": "code",
   "execution_count": 88,
   "id": "417072e2",
   "metadata": {
    "id": "417072e2"
   },
   "outputs": [],
   "source": [
    "\n",
    "category = pd.DataFrame()\n",
    "category['category'] = df2.columns[3:] \n",
    "category['count'] = df2.iloc[:,3:].sum().values\n",
    "\n"
   ]
  },
  {
   "cell_type": "code",
   "execution_count": 89,
   "id": "f2d87643",
   "metadata": {
    "id": "f2d87643"
   },
   "outputs": [],
   "source": [
    "categoryHead = category.sort_values('count',ascending=False).head(15)"
   ]
  },
  {
   "cell_type": "code",
   "execution_count": 90,
   "metadata": {},
   "outputs": [
    {
     "data": {
      "text/html": [
       "<div>\n",
       "<style scoped>\n",
       "    .dataframe tbody tr th:only-of-type {\n",
       "        vertical-align: middle;\n",
       "    }\n",
       "\n",
       "    .dataframe tbody tr th {\n",
       "        vertical-align: top;\n",
       "    }\n",
       "\n",
       "    .dataframe thead th {\n",
       "        text-align: right;\n",
       "    }\n",
       "</style>\n",
       "<table border=\"1\" class=\"dataframe\">\n",
       "  <thead>\n",
       "    <tr style=\"text-align: right;\">\n",
       "      <th></th>\n",
       "      <th>category</th>\n",
       "      <th>count</th>\n",
       "    </tr>\n",
       "  </thead>\n",
       "  <tbody>\n",
       "    <tr>\n",
       "      <th>9</th>\n",
       "      <td>Appliances</td>\n",
       "      <td>7970</td>\n",
       "    </tr>\n",
       "    <tr>\n",
       "      <th>14</th>\n",
       "      <td>Cell Phones</td>\n",
       "      <td>6409</td>\n",
       "    </tr>\n",
       "    <tr>\n",
       "      <th>65</th>\n",
       "      <td>Cell Phone Accessories</td>\n",
       "      <td>5691</td>\n",
       "    </tr>\n",
       "    <tr>\n",
       "      <th>6</th>\n",
       "      <td>Video Games</td>\n",
       "      <td>5522</td>\n",
       "    </tr>\n",
       "    <tr>\n",
       "      <th>8</th>\n",
       "      <td>Computers &amp; Tablets</td>\n",
       "      <td>5255</td>\n",
       "    </tr>\n",
       "    <tr>\n",
       "      <th>0</th>\n",
       "      <td>Connected Home &amp; Housewares</td>\n",
       "      <td>4326</td>\n",
       "    </tr>\n",
       "    <tr>\n",
       "      <th>51</th>\n",
       "      <td>Pre-Owned Games</td>\n",
       "      <td>3545</td>\n",
       "    </tr>\n",
       "    <tr>\n",
       "      <th>55</th>\n",
       "      <td>Small Kitchen Appliances</td>\n",
       "      <td>3363</td>\n",
       "    </tr>\n",
       "    <tr>\n",
       "      <th>10</th>\n",
       "      <td>Audio</td>\n",
       "      <td>3303</td>\n",
       "    </tr>\n",
       "    <tr>\n",
       "      <th>7</th>\n",
       "      <td>Cameras &amp; Camcorders</td>\n",
       "      <td>3011</td>\n",
       "    </tr>\n",
       "    <tr>\n",
       "      <th>4</th>\n",
       "      <td>Musical Instruments</td>\n",
       "      <td>2611</td>\n",
       "    </tr>\n",
       "    <tr>\n",
       "      <th>2</th>\n",
       "      <td>Car Electronics &amp; GPS</td>\n",
       "      <td>2207</td>\n",
       "    </tr>\n",
       "    <tr>\n",
       "      <th>50</th>\n",
       "      <td>Computer Accessories &amp; Peripherals</td>\n",
       "      <td>2057</td>\n",
       "    </tr>\n",
       "    <tr>\n",
       "      <th>200</th>\n",
       "      <td>iPhone Accessories</td>\n",
       "      <td>1993</td>\n",
       "    </tr>\n",
       "    <tr>\n",
       "      <th>11</th>\n",
       "      <td>TV &amp; Home Theater</td>\n",
       "      <td>1856</td>\n",
       "    </tr>\n",
       "  </tbody>\n",
       "</table>\n",
       "</div>"
      ],
      "text/plain": [
       "                               category  count\n",
       "9                            Appliances   7970\n",
       "14                          Cell Phones   6409\n",
       "65               Cell Phone Accessories   5691\n",
       "6                           Video Games   5522\n",
       "8                   Computers & Tablets   5255\n",
       "0           Connected Home & Housewares   4326\n",
       "51                      Pre-Owned Games   3545\n",
       "55             Small Kitchen Appliances   3363\n",
       "10                                Audio   3303\n",
       "7                  Cameras & Camcorders   3011\n",
       "4                   Musical Instruments   2611\n",
       "2                 Car Electronics & GPS   2207\n",
       "50   Computer Accessories & Peripherals   2057\n",
       "200                  iPhone Accessories   1993\n",
       "11                    TV & Home Theater   1856"
      ]
     },
     "execution_count": 90,
     "metadata": {},
     "output_type": "execute_result"
    }
   ],
   "source": [
    "categoryHead"
   ]
  },
  {
   "cell_type": "code",
   "execution_count": 91,
   "id": "6f950f69",
   "metadata": {
    "colab": {
     "base_uri": "https://localhost:8080/",
     "height": 521
    },
    "id": "6f950f69",
    "outputId": "5cb30217-40b3-451c-8070-6d8a5cced335",
    "scrolled": false
   },
   "outputs": [
    {
     "data": {
      "image/png": "[encoded data removed]",
      "text/plain": [
       "<Figure size 1080x360 with 1 Axes>"
      ]
     },
     "metadata": {},
     "output_type": "display_data"
    }
   ],
   "source": [
    "sns.barplot(data=categoryHead,x='category',y='count')\n",
    "\n",
    "plt.xticks(rotation='vertical')\n",
    "\n",
    "plt.title(\"Number to products by Categories\")\n",
    "\n",
    "plt.figure(1).set_size_inches(15, 5)\n",
    "\n",
    "plt.show()"
   ]
  },
  {
   "cell_type": "code",
   "execution_count": null,
   "metadata": {},
   "outputs": [],
   "source": [
    "for i, c in df2.iterrows():\n",
    "    df2.loc[i, 'name'] = nfx.clean_text(df2.loc[i, 'name'], puncts=True,\n",
    "    stopwords=True,\n",
    "    urls=True,\n",
    "    emails=True,\n",
    "    numbers=True,\n",
    "    emojis=True,\n",
    "    special_char=True,\n",
    "    phone_num=True,\n",
    "    non_ascii=True,\n",
    "    multiple_whitespaces=True,\n",
    "    contractions=True,\n",
    "    currency_symbols=True)"
   ]
  },
  {
   "cell_type": "code",
   "execution_count": null,
   "metadata": {},
   "outputs": [],
   "source": [
    "for i, c in df2.iterrows():\n",
    "    df2.loc[i, 'description'] = nfx.clean_text(df2.loc[i, 'description'], puncts=True,\n",
    "    stopwords=True,\n",
    "    urls=True,\n",
    "    emails=True,\n",
    "    numbers=True,\n",
    "    emojis=True,\n",
    "    special_char=True,\n",
    "    phone_num=True,\n",
    "    non_ascii=True,\n",
    "    multiple_whitespaces=True,\n",
    "    contractions=True,\n",
    "    currency_symbols=True)"
   ]
  },
  {
   "cell_type": "code",
   "execution_count": null,
   "metadata": {},
   "outputs": [],
   "source": [
    "df2['Text'] = df2['name'] + df2['description']\n"
   ]
  },
  {
   "cell_type": "code",
   "execution_count": null,
   "metadata": {},
   "outputs": [],
   "source": [
    "\n",
    "df2.drop(['description', 'name'], axis=1, inplace=True)\n",
    "df2.reset_index(inplace=True, drop= True)"
   ]
  },
  {
   "cell_type": "markdown",
   "metadata": {},
   "source": [
    "# Data Transformation"
   ]
  },
  {
   "cell_type": "markdown",
   "metadata": {},
   "source": [
    "# Split Dataset"
   ]
  },
  {
   "cell_type": "code",
   "execution_count": null,
   "metadata": {},
   "outputs": [],
   "source": [
    "from sklearn.datasets import make_multilabel_classification\n",
    "from iterstrat.ml_stratifiers import MultilabelStratifiedShuffleSplit\n",
    "from sklearn.utils import indexable, _safe_indexing\n",
    "from sklearn.utils.validation import _num_samples\n",
    "from sklearn.model_selection._split import _validate_shuffle_split\n",
    "from itertools import chain"
   ]
  },
  {
   "cell_type": "code",
   "execution_count": null,
   "metadata": {},
   "outputs": [],
   "source": [
    "def multilabel_train_test_split(*arrays,\n",
    "                                test_size=None,\n",
    "                                train_size=None,\n",
    "                                random_state=None,\n",
    "                                shuffle=True,\n",
    "                                stratify=None):\n",
    "    \"\"\"\n",
    "    Train test split for multilabel classification. Uses the algorithm from: \n",
    "    'Sechidis K., Tsoumakas G., Vlahavas I. (2011) On the Stratification of Multi-Label Data'.\n",
    "    \"\"\"\n",
    "    if stratify is None:\n",
    "        return train_test_split(*arrays, test_size=test_size,train_size=train_size,\n",
    "                                random_state=random_state, stratify=None, shuffle=shuffle)\n",
    "    \n",
    "    assert shuffle, \"Stratified train/test split is not implemented for shuffle=False\"\n",
    "    \n",
    "    n_arrays = len(arrays)\n",
    "    arrays = indexable(*arrays)\n",
    "    n_samples = _num_samples(arrays[0])\n",
    "    n_train, n_test = _validate_shuffle_split(\n",
    "        n_samples, test_size, train_size, default_test_size=0.25\n",
    "    )\n",
    "    cv = MultilabelStratifiedShuffleSplit(test_size=n_test, train_size=n_train, random_state=123)\n",
    "    train, test = next(cv.split(X=arrays[0], y=stratify))\n",
    "\n",
    "    return list(\n",
    "        chain.from_iterable(\n",
    "            (_safe_indexing(a, train), _safe_indexing(a, test)) for a in arrays\n",
    "        )\n",
    "    )"
   ]
  },
  {
   "cell_type": "code",
   "execution_count": null,
   "metadata": {},
   "outputs": [],
   "source": [
    "X = df2['Text']\n",
    "Y = df2.drop(columns=['Text','number_of_categories'])\n",
    "X_train,X_test,Y_train,Y_test = multilabel_train_test_split(np.array(X), np.array(Y),test_size=0.2)\n"
   ]
  },
  {
   "cell_type": "code",
   "execution_count": null,
   "metadata": {},
   "outputs": [],
   "source": [
    "df2.to_csv('DataNew.csv')"
   ]
  },
  {
   "cell_type": "code",
   "execution_count": null,
   "metadata": {},
   "outputs": [],
   "source": [
    "df2 = pd.read_csv('DataNew.csv',index_col=0)"
   ]
  },
  {
   "cell_type": "code",
   "execution_count": null,
   "metadata": {},
   "outputs": [
    {
     "data": {
      "text/plain": [
       "'audiotechnica microphonedetachable hz khz cable'"
      ]
     },
     "execution_count": 44,
     "metadata": {},
     "output_type": "execute_result"
    }
   ],
   "source": [
    "df2['Text'][100]"
   ]
  },
  {
   "cell_type": "markdown",
   "metadata": {},
   "source": [
    "# Vectorized dataset"
   ]
  },
  {
   "cell_type": "code",
   "execution_count": null,
   "metadata": {},
   "outputs": [],
   "source": [
    "# Create vectorizer\n",
    "tfidf_vectorizer = TfidfVectorizer(ngram_range=(1,2))\n",
    "\n",
    "# Vectorizer X_train\n",
    "X_train_values = tfidf_vectorizer.fit_transform(X_train)\n",
    "\n",
    "# Vectorizer X_test\n",
    "X_test_values = tfidf_vectorizer.transform(X_test)\n"
   ]
  },
  {
   "cell_type": "code",
   "execution_count": null,
   "metadata": {},
   "outputs": [
    {
     "data": {
      "text/plain": [
       "['tfidf.plk']"
      ]
     },
     "execution_count": 46,
     "metadata": {},
     "output_type": "execute_result"
    }
   ],
   "source": [
    "joblib.dump(tfidf_vectorizer,'tfidf.plk')"
   ]
  },
  {
   "cell_type": "markdown",
   "metadata": {},
   "source": [
    "# Models"
   ]
  },
  {
   "cell_type": "markdown",
   "metadata": {},
   "source": [
    "#### Passive Aggressive Classifier"
   ]
  },
  {
   "cell_type": "code",
   "execution_count": null,
   "metadata": {},
   "outputs": [
    {
     "data": {
      "text/html": [
       "<style>#sk-container-id-1 {color: black;background-color: white;}#sk-container-id-1 pre{padding: 0;}#sk-container-id-1 div.sk-toggleable {background-color: white;}#sk-container-id-1 label.sk-toggleable__label {cursor: pointer;display: block;width: 100%;margin-bottom: 0;padding: 0.3em;box-sizing: border-box;text-align: center;}#sk-container-id-1 label.sk-toggleable__label-arrow:before {content: \"▸\";float: left;margin-right: 0.25em;color: #696969;}#sk-container-id-1 label.sk-toggleable__label-arrow:hover:before {color: black;}#sk-container-id-1 div.sk-estimator:hover label.sk-toggleable__label-arrow:before {color: black;}#sk-container-id-1 div.sk-toggleable__content {max-height: 0;max-width: 0;overflow: hidden;text-align: left;background-color: #f0f8ff;}#sk-container-id-1 div.sk-toggleable__content pre {margin: 0.2em;color: black;border-radius: 0.25em;background-color: #f0f8ff;}#sk-container-id-1 input.sk-toggleable__control:checked~div.sk-toggleable__content {max-height: 200px;max-width: 100%;overflow: auto;}#sk-container-id-1 input.sk-toggleable__control:checked~label.sk-toggleable__label-arrow:before {content: \"▾\";}#sk-container-id-1 div.sk-estimator input.sk-toggleable__control:checked~label.sk-toggleable__label {background-color: #d4ebff;}#sk-container-id-1 div.sk-label input.sk-toggleable__control:checked~label.sk-toggleable__label {background-color: #d4ebff;}#sk-container-id-1 input.sk-hidden--visually {border: 0;clip: rect(1px 1px 1px 1px);clip: rect(1px, 1px, 1px, 1px);height: 1px;margin: -1px;overflow: hidden;padding: 0;position: absolute;width: 1px;}#sk-container-id-1 div.sk-estimator {font-family: monospace;background-color: #f0f8ff;border: 1px dotted black;border-radius: 0.25em;box-sizing: border-box;margin-bottom: 0.5em;}#sk-container-id-1 div.sk-estimator:hover {background-color: #d4ebff;}#sk-container-id-1 div.sk-parallel-item::after {content: \"\";width: 100%;border-bottom: 1px solid gray;flex-grow: 1;}#sk-container-id-1 div.sk-label:hover label.sk-toggleable__label {background-color: #d4ebff;}#sk-container-id-1 div.sk-serial::before {content: \"\";position: absolute;border-left: 1px solid gray;box-sizing: border-box;top: 0;bottom: 0;left: 50%;z-index: 0;}#sk-container-id-1 div.sk-serial {display: flex;flex-direction: column;align-items: center;background-color: white;padding-right: 0.2em;padding-left: 0.2em;position: relative;}#sk-container-id-1 div.sk-item {position: relative;z-index: 1;}#sk-container-id-1 div.sk-parallel {display: flex;align-items: stretch;justify-content: center;background-color: white;position: relative;}#sk-container-id-1 div.sk-item::before, #sk-container-id-1 div.sk-parallel-item::before {content: \"\";position: absolute;border-left: 1px solid gray;box-sizing: border-box;top: 0;bottom: 0;left: 50%;z-index: -1;}#sk-container-id-1 div.sk-parallel-item {display: flex;flex-direction: column;z-index: 1;position: relative;background-color: white;}#sk-container-id-1 div.sk-parallel-item:first-child::after {align-self: flex-end;width: 50%;}#sk-container-id-1 div.sk-parallel-item:last-child::after {align-self: flex-start;width: 50%;}#sk-container-id-1 div.sk-parallel-item:only-child::after {width: 0;}#sk-container-id-1 div.sk-dashed-wrapped {border: 1px dashed gray;margin: 0 0.4em 0.5em 0.4em;box-sizing: border-box;padding-bottom: 0.4em;background-color: white;}#sk-container-id-1 div.sk-label label {font-family: monospace;font-weight: bold;display: inline-block;line-height: 1.2em;}#sk-container-id-1 div.sk-label-container {text-align: center;}#sk-container-id-1 div.sk-container {/* jupyter's `normalize.less` sets `[hidden] { display: none; }` but bootstrap.min.css set `[hidden] { display: none !important; }` so we also need the `!important` here to be able to override the default hidden behavior on the sphinx rendered scikit-learn.org. See: https://github.com/scikit-learn/scikit-learn/issues/21755 */display: inline-block !important;position: relative;}#sk-container-id-1 div.sk-text-repr-fallback {display: none;}</style><div id=\"sk-container-id-1\" class=\"sk-top-container\"><div class=\"sk-text-repr-fallback\"><pre>OneVsRestClassifier(estimator=PassiveAggressiveClassifier())</pre><b>In a Jupyter environment, please rerun this cell to show the HTML representation or trust the notebook. <br />On GitHub, the HTML representation is unable to render, please try loading this page with nbviewer.org.</b></div><div class=\"sk-container\" hidden><div class=\"sk-item sk-dashed-wrapped\"><div class=\"sk-label-container\"><div class=\"sk-label sk-toggleable\"><input class=\"sk-toggleable__control sk-hidden--visually\" id=\"sk-estimator-id-1\" type=\"checkbox\" ><label for=\"sk-estimator-id-1\" class=\"sk-toggleable__label sk-toggleable__label-arrow\">OneVsRestClassifier</label><div class=\"sk-toggleable__content\"><pre>OneVsRestClassifier(estimator=PassiveAggressiveClassifier())</pre></div></div></div><div class=\"sk-parallel\"><div class=\"sk-parallel-item\"><div class=\"sk-item\"><div class=\"sk-label-container\"><div class=\"sk-label sk-toggleable\"><input class=\"sk-toggleable__control sk-hidden--visually\" id=\"sk-estimator-id-2\" type=\"checkbox\" ><label for=\"sk-estimator-id-2\" class=\"sk-toggleable__label sk-toggleable__label-arrow\">estimator: PassiveAggressiveClassifier</label><div class=\"sk-toggleable__content\"><pre>PassiveAggressiveClassifier()</pre></div></div></div><div class=\"sk-serial\"><div class=\"sk-item\"><div class=\"sk-estimator sk-toggleable\"><input class=\"sk-toggleable__control sk-hidden--visually\" id=\"sk-estimator-id-3\" type=\"checkbox\" ><label for=\"sk-estimator-id-3\" class=\"sk-toggleable__label sk-toggleable__label-arrow\">PassiveAggressiveClassifier</label><div class=\"sk-toggleable__content\"><pre>PassiveAggressiveClassifier()</pre></div></div></div></div></div></div></div></div></div></div>"
      ],
      "text/plain": [
       "OneVsRestClassifier(estimator=PassiveAggressiveClassifier())"
      ]
     },
     "execution_count": 47,
     "metadata": {},
     "output_type": "execute_result"
    }
   ],
   "source": [
    "pac = PassiveAggressiveClassifier()\n",
    "clf = OneVsRestClassifier(pac)\n",
    "clf.fit(X_train_values, Y_train)"
   ]
  },
  {
   "cell_type": "code",
   "execution_count": null,
   "metadata": {},
   "outputs": [],
   "source": [
    "pre = clf.predict(X_test_values)"
   ]
  },
  {
   "cell_type": "code",
   "execution_count": null,
   "metadata": {},
   "outputs": [],
   "source": [
    "#joblib.dump(clf,'Model_PAC_0.plk')\n"
   ]
  },
  {
   "cell_type": "code",
   "execution_count": null,
   "metadata": {},
   "outputs": [
    {
     "name": "stdout",
     "output_type": "stream",
     "text": [
      "F1 =  0.930770874776004\n",
      "recall_score =  0.912043301759134\n",
      "precision_score =  0.9502836617543389\n"
     ]
    }
   ],
   "source": [
    "\n",
    "print(\"F1 = \",f1_score(Y_test,pre,average='micro'))\n",
    "print(\"recall_score = \",recall_score(Y_test,pre,average='micro'))\n",
    "print(\"precision_score = \",precision_score(Y_test,pre,average='micro'))"
   ]
  },
  {
   "cell_type": "markdown",
   "metadata": {},
   "source": [
    "#### SGD Classifier"
   ]
  },
  {
   "cell_type": "code",
   "execution_count": null,
   "metadata": {},
   "outputs": [
    {
     "data": {
      "text/html": [
       "<style>#sk-container-id-2 {color: black;background-color: white;}#sk-container-id-2 pre{padding: 0;}#sk-container-id-2 div.sk-toggleable {background-color: white;}#sk-container-id-2 label.sk-toggleable__label {cursor: pointer;display: block;width: 100%;margin-bottom: 0;padding: 0.3em;box-sizing: border-box;text-align: center;}#sk-container-id-2 label.sk-toggleable__label-arrow:before {content: \"▸\";float: left;margin-right: 0.25em;color: #696969;}#sk-container-id-2 label.sk-toggleable__label-arrow:hover:before {color: black;}#sk-container-id-2 div.sk-estimator:hover label.sk-toggleable__label-arrow:before {color: black;}#sk-container-id-2 div.sk-toggleable__content {max-height: 0;max-width: 0;overflow: hidden;text-align: left;background-color: #f0f8ff;}#sk-container-id-2 div.sk-toggleable__content pre {margin: 0.2em;color: black;border-radius: 0.25em;background-color: #f0f8ff;}#sk-container-id-2 input.sk-toggleable__control:checked~div.sk-toggleable__content {max-height: 200px;max-width: 100%;overflow: auto;}#sk-container-id-2 input.sk-toggleable__control:checked~label.sk-toggleable__label-arrow:before {content: \"▾\";}#sk-container-id-2 div.sk-estimator input.sk-toggleable__control:checked~label.sk-toggleable__label {background-color: #d4ebff;}#sk-container-id-2 div.sk-label input.sk-toggleable__control:checked~label.sk-toggleable__label {background-color: #d4ebff;}#sk-container-id-2 input.sk-hidden--visually {border: 0;clip: rect(1px 1px 1px 1px);clip: rect(1px, 1px, 1px, 1px);height: 1px;margin: -1px;overflow: hidden;padding: 0;position: absolute;width: 1px;}#sk-container-id-2 div.sk-estimator {font-family: monospace;background-color: #f0f8ff;border: 1px dotted black;border-radius: 0.25em;box-sizing: border-box;margin-bottom: 0.5em;}#sk-container-id-2 div.sk-estimator:hover {background-color: #d4ebff;}#sk-container-id-2 div.sk-parallel-item::after {content: \"\";width: 100%;border-bottom: 1px solid gray;flex-grow: 1;}#sk-container-id-2 div.sk-label:hover label.sk-toggleable__label {background-color: #d4ebff;}#sk-container-id-2 div.sk-serial::before {content: \"\";position: absolute;border-left: 1px solid gray;box-sizing: border-box;top: 0;bottom: 0;left: 50%;z-index: 0;}#sk-container-id-2 div.sk-serial {display: flex;flex-direction: column;align-items: center;background-color: white;padding-right: 0.2em;padding-left: 0.2em;position: relative;}#sk-container-id-2 div.sk-item {position: relative;z-index: 1;}#sk-container-id-2 div.sk-parallel {display: flex;align-items: stretch;justify-content: center;background-color: white;position: relative;}#sk-container-id-2 div.sk-item::before, #sk-container-id-2 div.sk-parallel-item::before {content: \"\";position: absolute;border-left: 1px solid gray;box-sizing: border-box;top: 0;bottom: 0;left: 50%;z-index: -1;}#sk-container-id-2 div.sk-parallel-item {display: flex;flex-direction: column;z-index: 1;position: relative;background-color: white;}#sk-container-id-2 div.sk-parallel-item:first-child::after {align-self: flex-end;width: 50%;}#sk-container-id-2 div.sk-parallel-item:last-child::after {align-self: flex-start;width: 50%;}#sk-container-id-2 div.sk-parallel-item:only-child::after {width: 0;}#sk-container-id-2 div.sk-dashed-wrapped {border: 1px dashed gray;margin: 0 0.4em 0.5em 0.4em;box-sizing: border-box;padding-bottom: 0.4em;background-color: white;}#sk-container-id-2 div.sk-label label {font-family: monospace;font-weight: bold;display: inline-block;line-height: 1.2em;}#sk-container-id-2 div.sk-label-container {text-align: center;}#sk-container-id-2 div.sk-container {/* jupyter's `normalize.less` sets `[hidden] { display: none; }` but bootstrap.min.css set `[hidden] { display: none !important; }` so we also need the `!important` here to be able to override the default hidden behavior on the sphinx rendered scikit-learn.org. See: https://github.com/scikit-learn/scikit-learn/issues/21755 */display: inline-block !important;position: relative;}#sk-container-id-2 div.sk-text-repr-fallback {display: none;}</style><div id=\"sk-container-id-2\" class=\"sk-top-container\"><div class=\"sk-text-repr-fallback\"><pre>OneVsRestClassifier(estimator=SGDClassifier())</pre><b>In a Jupyter environment, please rerun this cell to show the HTML representation or trust the notebook. <br />On GitHub, the HTML representation is unable to render, please try loading this page with nbviewer.org.</b></div><div class=\"sk-container\" hidden><div class=\"sk-item sk-dashed-wrapped\"><div class=\"sk-label-container\"><div class=\"sk-label sk-toggleable\"><input class=\"sk-toggleable__control sk-hidden--visually\" id=\"sk-estimator-id-4\" type=\"checkbox\" ><label for=\"sk-estimator-id-4\" class=\"sk-toggleable__label sk-toggleable__label-arrow\">OneVsRestClassifier</label><div class=\"sk-toggleable__content\"><pre>OneVsRestClassifier(estimator=SGDClassifier())</pre></div></div></div><div class=\"sk-parallel\"><div class=\"sk-parallel-item\"><div class=\"sk-item\"><div class=\"sk-label-container\"><div class=\"sk-label sk-toggleable\"><input class=\"sk-toggleable__control sk-hidden--visually\" id=\"sk-estimator-id-5\" type=\"checkbox\" ><label for=\"sk-estimator-id-5\" class=\"sk-toggleable__label sk-toggleable__label-arrow\">estimator: SGDClassifier</label><div class=\"sk-toggleable__content\"><pre>SGDClassifier()</pre></div></div></div><div class=\"sk-serial\"><div class=\"sk-item\"><div class=\"sk-estimator sk-toggleable\"><input class=\"sk-toggleable__control sk-hidden--visually\" id=\"sk-estimator-id-6\" type=\"checkbox\" ><label for=\"sk-estimator-id-6\" class=\"sk-toggleable__label sk-toggleable__label-arrow\">SGDClassifier</label><div class=\"sk-toggleable__content\"><pre>SGDClassifier()</pre></div></div></div></div></div></div></div></div></div></div>"
      ],
      "text/plain": [
       "OneVsRestClassifier(estimator=SGDClassifier())"
      ]
     },
     "execution_count": 51,
     "metadata": {},
     "output_type": "execute_result"
    }
   ],
   "source": [
    "\n",
    "sgd = SGDClassifier()\n",
    "clf = OneVsRestClassifier(sgd)\n",
    "clf.fit(X_train_values, Y_train)\n"
   ]
  },
  {
   "cell_type": "code",
   "execution_count": null,
   "metadata": {},
   "outputs": [],
   "source": [
    "pre = clf.predict(X_test_values)"
   ]
  },
  {
   "cell_type": "code",
   "execution_count": null,
   "metadata": {
    "scrolled": true
   },
   "outputs": [
    {
     "name": "stdout",
     "output_type": "stream",
     "text": [
      "F1 =  0.8541430703126406\n",
      "recall_score =  0.7653521489786713\n",
      "precision_score =  0.966239576977832\n"
     ]
    }
   ],
   "source": [
    "\n",
    "print(\"F1 = \",f1_score(Y_test,pre,average='micro'))\n",
    "print(\"recall_score = \",recall_score(Y_test,pre,average='micro'))\n",
    "print(\"precision_score = \",precision_score(Y_test,pre,average='micro'))\n"
   ]
  },
  {
   "cell_type": "markdown",
   "metadata": {},
   "source": [
    "#### Logistic Regression"
   ]
  },
  {
   "cell_type": "code",
   "execution_count": null,
   "metadata": {},
   "outputs": [
    {
     "data": {
      "text/plain": [
       "'\\nlr = LogisticRegression(solver=\\'sag\\')\\nclf = OneVsRestClassifier(lr)\\nclf.fit(X_train_values, Y_train)\\npre = clf.predict(X_test_values)\\n\\nprint(\"F1 = \",f1_score(Y_test,pre,average=\\'micro\\'))\\nprint(\"recall_score = \",recall_score(Y_test,pre,average=\\'micro\\'))\\nprint(\"precision_score = \",precision_score(Y_test,pre,average=\\'micro\\'))\\n'"
      ]
     },
     "execution_count": 53,
     "metadata": {},
     "output_type": "execute_result"
    }
   ],
   "source": [
    "\n",
    "lr = LogisticRegression(solver='sag')\n",
    "clf = OneVsRestClassifier(lr)\n",
    "clf.fit(X_train_values, Y_train)\n",
    "pre = clf.predict(X_test_values)\n",
    "\n",
    "print(\"F1 = \",f1_score(Y_test,pre,average='micro'))\n",
    "print(\"recall_score = \",recall_score(Y_test,pre,average='micro'))\n",
    "print(\"precision_score = \",precision_score(Y_test,pre,average='micro'))\n"
   ]
  },
  {
   "cell_type": "markdown",
   "metadata": {},
   "source": [
    "#### Linear SVC"
   ]
  },
  {
   "cell_type": "code",
   "execution_count": null,
   "metadata": {},
   "outputs": [
    {
     "name": "stdout",
     "output_type": "stream",
     "text": [
      "F1 =  0.9253393288367058\n",
      "recall_score =  0.8950641149558606\n",
      "precision_score =  0.9577343399868997\n"
     ]
    }
   ],
   "source": [
    "\n",
    "svc = LinearSVC()\n",
    "clf = OneVsRestClassifier(svc)\n",
    "clf.fit(X_train_values, Y_train)\n",
    "pre = clf.predict(X_test_values)\n",
    "\n",
    "print(\"F1 = \",f1_score(Y_test,pre,average='micro'))\n",
    "print(\"recall_score = \",recall_score(Y_test,pre,average='micro'))\n",
    "print(\"precision_score = \",precision_score(Y_test,pre,average='micro'))\n"
   ]
  },
  {
   "cell_type": "code",
   "execution_count": null,
   "metadata": {},
   "outputs": [
    {
     "data": {
      "text/plain": [
       "['ModeloSVC0.plk']"
      ]
     },
     "execution_count": 55,
     "metadata": {},
     "output_type": "execute_result"
    }
   ],
   "source": [
    "joblib.dump(clf,'ModeloSVC0.plk')\n"
   ]
  },
  {
   "cell_type": "markdown",
   "metadata": {},
   "source": [
    "#### Perceptron"
   ]
  },
  {
   "cell_type": "code",
   "execution_count": null,
   "metadata": {
    "scrolled": false
   },
   "outputs": [
    {
     "name": "stdout",
     "output_type": "stream",
     "text": [
      "F1 =  0.9090879969247526\n",
      "recall_score =  0.9143308202848122\n",
      "precision_score =  0.9039049560453561\n"
     ]
    }
   ],
   "source": [
    "\n",
    "perceptron = Perceptron()\n",
    "clf = OneVsRestClassifier(perceptron)\n",
    "clf.fit(X_train_values, Y_train)\n",
    "pre = clf.predict(X_test_values)\n",
    "\n",
    "print(\"F1 = \",f1_score(Y_test,pre,average='micro'))\n",
    "print(\"recall_score = \",recall_score(Y_test,pre,average='micro'))\n",
    "print(\"precision_score = \",precision_score(Y_test,pre,average='micro'))\n"
   ]
  },
  {
   "cell_type": "code",
   "execution_count": null,
   "metadata": {},
   "outputs": [],
   "source": [
    "#joblib.dump(clf,'Model_perceptron_0.plk')\n"
   ]
  },
  {
   "cell_type": "markdown",
   "metadata": {},
   "source": [
    "### Result"
   ]
  },
  {
   "cell_type": "code",
   "execution_count": null,
   "metadata": {},
   "outputs": [],
   "source": [
    "Y_train_columns = Y.columns"
   ]
  },
  {
   "cell_type": "code",
   "execution_count": null,
   "metadata": {},
   "outputs": [],
   "source": [
    "def modelFuction(text,tfidf_vectorizer):\n",
    "    \n",
    "    text = nfx.clean_text(text,stopwords=True,\n",
    "    urls=True,\n",
    "    emails=True,\n",
    "    numbers=True,\n",
    "    emojis=True,\n",
    "    special_char=True,\n",
    "    phone_num=True,\n",
    "    non_ascii=True,\n",
    "    multiple_whitespaces=True,\n",
    "    contractions=True,\n",
    "    currency_symbols=True)\n",
    "\n",
    "    m = joblib.load('ModeloSVC0.plk')\n",
    "\n",
    "    print(tfidf_vectorizer.idf_.shape)\n",
    "    text_vectorizer = tfidf_vectorizer.transform([text])\n",
    "    print(tfidf_vectorizer.idf_.shape)\n",
    "    prediction = m.predict(text_vectorizer)\n",
    "    \n",
    "    re = []\n",
    "   \n",
    "    for pre in np.where(prediction==1)[1]:\n",
    "    \n",
    "        re.append(Y_train_columns[pre])\n",
    "\n",
    "    return  re"
   ]
  },
  {
   "cell_type": "code",
   "execution_count": null,
   "metadata": {},
   "outputs": [
    {
     "name": "stdout",
     "output_type": "stream",
     "text": [
      "(241329,)\n",
      "(241329,)\n"
     ]
    }
   ],
   "source": [
    "h = modelFuction(\"duracell aaa batteries packcompatible\",tfidf_vectorizer)"
   ]
  },
  {
   "cell_type": "code",
   "execution_count": null,
   "metadata": {},
   "outputs": [
    {
     "data": {
      "text/plain": [
       "['Musical Instruments', 'Sheet Music & DVDs', 'Instrument Instructional DVDs']"
      ]
     },
     "execution_count": 60,
     "metadata": {},
     "output_type": "execute_result"
    }
   ],
   "source": [
    "h"
   ]
  },
  {
   "cell_type": "code",
   "execution_count": null,
   "metadata": {},
   "outputs": [],
   "source": [
    "\n",
    "DF = pd.read_csv('DataNew.csv',index_col=0)\n",
    "\n",
    "Y_train_columns = DF.columns[2:]"
   ]
  },
  {
   "cell_type": "code",
   "execution_count": null,
   "metadata": {},
   "outputs": [],
   "source": [
    "def modelFuction1(text):\n",
    "    \n",
    "    text = nfx.clean_text(text,stopwords=True,\n",
    "    urls=True,\n",
    "    emails=True,\n",
    "    numbers=True,\n",
    "    emojis=True,\n",
    "    special_char=True,\n",
    "    phone_num=True,\n",
    "    non_ascii=True,\n",
    "    multiple_whitespaces=True,\n",
    "    contractions=True,\n",
    "    currency_symbols=True)\n",
    "\n",
    "    m = joblib.load('ModeloSVC0.plk')\n",
    "\n",
    "    text_vectorizer = tfidf_vectorizer.transform([text])\n",
    "    \n",
    "    prediction = m.predict(text_vectorizer)\n",
    "    \n",
    "    re = []\n",
    "   \n",
    "    for pre in np.where(prediction==1)[1]:\n",
    "    \n",
    "        re.append(Y_train_columns[pre])\n",
    "\n",
    "    return prediction"
   ]
  },
  {
   "cell_type": "code",
   "execution_count": null,
   "metadata": {},
   "outputs": [],
   "source": [
    "l = modelFuction1(\"duracell aaa batteries packcompatible\")"
   ]
  }
 ],
 "metadata": {
  "kernelspec": {
   "display_name": "Python 3 (ipykernel)",
   "language": "python",
   "name": "python3"
  },
  "language_info": {
   "codemirror_mode": {
    "name": "ipython",
    "version": 3
   },
   "file_extension": ".py",
   "mimetype": "text/x-python",
   "name": "python",
   "nbconvert_exporter": "python",
   "pygments_lexer": "ipython3",
   "version": "3.8.10"
  },
  "vscode": {
   "interpreter": {
    "hash": "31f2aee4e71d21fbe5cf8b01ff0e069b9275f58929596ceb00d14d90e3e16cd6"
   }
  }
 },
 "nbformat": 4,
 "nbformat_minor": 2
}
