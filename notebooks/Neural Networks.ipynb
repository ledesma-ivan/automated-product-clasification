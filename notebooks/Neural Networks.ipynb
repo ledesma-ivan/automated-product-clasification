{
 "cells": [
  {
   "cell_type": "code",
   "execution_count": 3,
   "metadata": {
    "id": "DSUmCxu27Upo"
   },
   "outputs": [],
   "source": [
    "import pandas as pd\n",
    "import numpy as np\n",
    "import tensorflow as tf\n",
    "import keras\n",
    "import joblib\n",
    "from tensorflow import keras\n",
    "from keras.preprocessing.text import Tokenizer\n",
    "from tensorflow.keras.preprocessing.sequence import pad_sequences\n",
    "from sklearn import metrics\n"
   ]
  },
  {
   "cell_type": "code",
   "execution_count": 4,
   "metadata": {
    "colab": {
     "base_uri": "https://localhost:8080/",
     "height": 341
    },
    "id": "xk5_V74r65kj",
    "outputId": "94c369b7-b9bd-4cb8-a560-ca41a0a7f7bb"
   },
   "outputs": [],
   "source": [
    "df = pd.read_csv('DataNew.csv',index_col=0)"
   ]
  },
  {
   "cell_type": "code",
   "execution_count": 6,
   "metadata": {
    "colab": {
     "base_uri": "https://localhost:8080/"
    },
    "id": "-jYprEpD7Tyj",
    "outputId": "19b6b947-3063-4392-f924-dbfb33863ccb"
   },
   "outputs": [
    {
     "name": "stdout",
     "output_type": "stream",
     "text": [
      "Amount of different words through the 45232 products information: 40953\n",
      "Amount of sequences: 45237\n",
      "Sequences Examples: [3598, 1784, 579, 2956, 13, 186, 47, 1784, 350, 5007, 12, 3304, 20, 45] [3598, 1263, 107, 1, 579, 1, 1530, 5007, 12, 3304, 20, 3133, 1, 1294, 518, 3666, 7032] [3598, 1263, 579, 2956, 13, 186, 47, 1263, 350, 5007, 12, 3304, 20, 45] [2124, 1201, 579, 1263, 1, 1263, 4517, 579, 35, 7976, 95] [3598, 373, 579, 2956, 13, 186, 47, 373, 350, 5007, 12, 3304, 20, 45]\n",
      "First Sequence padded: \n",
      " [3598 1784  579 2956   13  186   47 1784  350 5007   12 3304   20   45\n",
      "    0    0    0    0    0    0    0    0    0    0    0    0    0    0\n",
      "    0    0    0    0    0    0    0    0    0    0    0    0    0    0\n",
      "    0    0    0    0    0    0    0    0    0    0    0    0    0    0\n",
      "    0]\n",
      "57 57 57\n",
      "Dataset Padded Shape: (45237, 57)\n"
     ]
    }
   ],
   "source": [
    "#First Step -> Tokenize and padd\n",
    "tokenizer = Tokenizer(num_words=10000, oov_token=\"<OOV>\") #num_words : the maximum number of words to keep, based on word frequency (for the 45232 products information), #oov : out-of-vocabulary token, it is agregated to words which are not in the 10000 most frequent ones\n",
    "tokenizer.fit_on_texts(df['name and description']) # encoding words of information to integers, Updates internal vocabulary based on a list of sequences.\n",
    "word_index = tokenizer.word_index\n",
    "print(\"Amount of different words through the 45232 products information:\",len(word_index))\n",
    "sequences = tokenizer.texts_to_sequences(df['name and description'])\n",
    "print(\"Amount of sequences:\", len(sequences)) #Should be equal to the amount of products \n",
    "print(\"Sequences Examples:\",sequences[0], sequences[1], sequences[2], sequences[3], sequences[4]) #This is how the first 5 products info are represented, each number represent a word in \"word_index\" dict.\n",
    "padded = pad_sequences(sequences, padding=\"post\") #This takes the maxlen parameter as a referene and makes all the lists of the same lenght adding zeros on the left spaces, if nothins is pass ot will take the longest sequence as a reference\n",
    "print(\"First Sequence padded: \\n\",padded[0])\n",
    "print(len(padded[0]), len(padded[1]), len(padded[2])) #Should all be equal to \n",
    "print(\"Dataset Padded Shape:\", padded.shape)"
   ]
  },
  {
   "cell_type": "code",
   "execution_count": 7,
   "metadata": {
    "id": "kpVoT650D8fX"
   },
   "outputs": [],
   "source": [
    "from sklearn.model_selection import train_test_split"
   ]
  },
  {
   "cell_type": "code",
   "execution_count": 9,
   "metadata": {
    "id": "B2ra7tTzD8cs"
   },
   "outputs": [],
   "source": [
    "# Splitting dataset in train/test set\n",
    "X_train, X_test, y_train, y_test = train_test_split(padded, df[df.columns[1:-1]], \n",
    "                                                    test_size=0.3, \n",
    "                                                    random_state=0)"
   ]
  },
  {
   "cell_type": "code",
   "execution_count": 10,
   "metadata": {
    "id": "2pifAiJ77TwF"
   },
   "outputs": [],
   "source": [
    "from keras.models import load_model\n",
    "from keras.models import Sequential\n",
    "from keras.layers import Dense, Embedding, GlobalMaxPool1D, Dropout\n",
    "from tensorflow.keras.optimizers import Adam\n",
    "from keras.callbacks import ReduceLROnPlateau, EarlyStopping, ModelCheckpoint\n",
    "from tensorflow.keras.utils import plot_model"
   ]
  },
  {
   "cell_type": "code",
   "execution_count": 11,
   "metadata": {
    "colab": {
     "base_uri": "https://localhost:8080/"
    },
    "id": "3QQG6xFt7TtG",
    "outputId": "b6162499-4f95-4b39-8feb-8d29ecd61793"
   },
   "outputs": [
    {
     "name": "stdout",
     "output_type": "stream",
     "text": [
      "887\n",
      "40954\n",
      "57\n"
     ]
    }
   ],
   "source": [
    "num_classes = y_train.shape[1]\n",
    "print(num_classes)\n",
    "max_words = len(word_index) + 1\n",
    "print(max_words)\n",
    "maxlen = len(padded[0])\n",
    "print(maxlen)"
   ]
  },
  {
   "cell_type": "code",
   "execution_count": 56,
   "metadata": {},
   "outputs": [
    {
     "name": "stdout",
     "output_type": "stream",
     "text": [
      "Model: \"sequential_1\"\n",
      "_________________________________________________________________\n",
      " Layer (type)                Output Shape              Param #   \n",
      "=================================================================\n",
      " embedding_1 (Embedding)     (None, 57, 300)           12286200  \n",
      "                                                                 \n",
      " dense_1 (Dense)             (None, 57, 300)           90300     \n",
      "                                                                 \n",
      " global_max_pooling1d_1 (Glo  (None, 300)              0         \n",
      " balMaxPooling1D)                                                \n",
      "                                                                 \n",
      " dense_2 (Dense)             (None, 887)               266987    \n",
      "                                                                 \n",
      "=================================================================\n",
      "Total params: 12,643,487\n",
      "Trainable params: 12,643,487\n",
      "Non-trainable params: 0\n",
      "_________________________________________________________________\n"
     ]
    }
   ],
   "source": [
    "#Let´s buils our NN BaseLine Model\n",
    "model = Sequential()\n",
    "model.add(Embedding(max_words, 300, input_length=maxlen)) \n",
    "model.add(tf.keras.layers.Dense(300, activation='relu'))\n",
    "model.add(GlobalMaxPool1D())\n",
    "model.add(Dense(num_classes, activation='sigmoid'))\n",
    "model.compile(optimizer=Adam(0.015), loss='binary_crossentropy', metrics=['Precision','Recall', tf.keras.metrics.AUC()])\n",
    "callbacks = [\n",
    "    ReduceLROnPlateau(), # Reduce learning rate when a metric has stopped improving\n",
    "    ModelCheckpoint(filepath='model-neural-net.h5', save_best_only=True)\n",
    "]\n",
    "\n",
    "model.summary()"
   ]
  },
  {
   "cell_type": "code",
   "execution_count": 57,
   "metadata": {},
   "outputs": [
    {
     "name": "stdout",
     "output_type": "stream",
     "text": [
      "Epoch 1/30\n",
      "693/693 [==============================] - 214s 306ms/step - loss: 0.0146 - precision: 0.6296 - recall: 0.5789 - auc_1: 0.9128 - val_loss: 0.0108 - val_precision: 0.7837 - val_recall: 0.6668 - val_auc_1: 0.9239 - lr: 0.0150\n",
      "Epoch 2/30\n",
      "693/693 [==============================] - 205s 296ms/step - loss: 0.0117 - precision: 0.7586 - recall: 0.7284 - auc_1: 0.9325 - val_loss: 0.0127 - val_precision: 0.7477 - val_recall: 0.7258 - val_auc_1: 0.9314 - lr: 0.0150\n",
      "Epoch 3/30\n",
      "693/693 [==============================] - 206s 298ms/step - loss: 0.0084 - precision: 0.8095 - recall: 0.7685 - auc_1: 0.9538 - val_loss: 0.0090 - val_precision: 0.8020 - val_recall: 0.7448 - val_auc_1: 0.9503 - lr: 0.0150\n",
      "Epoch 4/30\n",
      "693/693 [==============================] - 206s 297ms/step - loss: 0.0066 - precision: 0.8327 - recall: 0.7847 - auc_1: 0.9655 - val_loss: 0.0094 - val_precision: 0.8041 - val_recall: 0.7347 - val_auc_1: 0.9456 - lr: 0.0150\n",
      "Epoch 5/30\n",
      "693/693 [==============================] - 207s 299ms/step - loss: 0.0069 - precision: 0.8267 - recall: 0.7805 - auc_1: 0.9641 - val_loss: 0.0116 - val_precision: 0.7949 - val_recall: 0.7407 - val_auc_1: 0.9414 - lr: 0.0150\n",
      "Epoch 6/30\n",
      "693/693 [==============================] - 208s 300ms/step - loss: 0.0081 - precision: 0.8105 - recall: 0.7687 - auc_1: 0.9579 - val_loss: 0.0109 - val_precision: 0.7687 - val_recall: 0.7486 - val_auc_1: 0.9512 - lr: 0.0150\n",
      "Epoch 7/30\n",
      "693/693 [==============================] - 205s 296ms/step - loss: 0.0077 - precision: 0.8188 - recall: 0.7691 - auc_1: 0.9623 - val_loss: 0.0103 - val_precision: 0.7668 - val_recall: 0.7324 - val_auc_1: 0.9510 - lr: 0.0150\n",
      "Epoch 8/30\n",
      "693/693 [==============================] - 200s 289ms/step - loss: 0.0069 - precision: 0.8293 - recall: 0.7688 - auc_1: 0.9661 - val_loss: 0.0093 - val_precision: 0.8049 - val_recall: 0.7185 - val_auc_1: 0.9501 - lr: 0.0150\n",
      "Epoch 9/30\n",
      "693/693 [==============================] - 202s 292ms/step - loss: 0.0059 - precision: 0.8470 - recall: 0.7734 - auc_1: 0.9740 - val_loss: 0.0089 - val_precision: 0.8324 - val_recall: 0.7421 - val_auc_1: 0.9539 - lr: 0.0150\n",
      "Epoch 10/30\n",
      "693/693 [==============================] - 201s 290ms/step - loss: 0.0070 - precision: 0.8262 - recall: 0.7553 - auc_1: 0.9679 - val_loss: 0.0132 - val_precision: 0.8016 - val_recall: 0.6872 - val_auc_1: 0.9412 - lr: 0.0150\n",
      "Epoch 11/30\n",
      "693/693 [==============================] - 192s 277ms/step - loss: 0.0098 - precision: 0.7973 - recall: 0.7258 - auc_1: 0.9569 - val_loss: 0.0122 - val_precision: 0.7968 - val_recall: 0.6871 - val_auc_1: 0.9481 - lr: 0.0150\n",
      "Epoch 12/30\n",
      "693/693 [==============================] - 185s 267ms/step - loss: 0.0076 - precision: 0.8275 - recall: 0.7268 - auc_1: 0.9677 - val_loss: 0.0099 - val_precision: 0.7936 - val_recall: 0.7054 - val_auc_1: 0.9574 - lr: 0.0150\n",
      "Epoch 13/30\n",
      "693/693 [==============================] - 206s 297ms/step - loss: 0.0062 - precision: 0.8416 - recall: 0.7263 - auc_1: 0.9742 - val_loss: 0.0097 - val_precision: 0.8136 - val_recall: 0.6931 - val_auc_1: 0.9578 - lr: 0.0150\n",
      "Epoch 14/30\n",
      "693/693 [==============================] - 201s 290ms/step - loss: 0.0069 - precision: 0.8361 - recall: 0.7129 - auc_1: 0.9699 - val_loss: 0.0103 - val_precision: 0.8129 - val_recall: 0.6863 - val_auc_1: 0.9554 - lr: 0.0150\n",
      "Epoch 15/30\n",
      "693/693 [==============================] - 202s 292ms/step - loss: 0.0078 - precision: 0.8199 - recall: 0.6972 - auc_1: 0.9653 - val_loss: 0.0114 - val_precision: 0.7931 - val_recall: 0.6608 - val_auc_1: 0.9508 - lr: 0.0150\n",
      "Epoch 16/30\n",
      "693/693 [==============================] - 197s 285ms/step - loss: 0.0082 - precision: 0.8180 - recall: 0.6860 - auc_1: 0.9647 - val_loss: 0.0118 - val_precision: 0.8192 - val_recall: 0.6496 - val_auc_1: 0.9503 - lr: 0.0150\n",
      "Epoch 17/30\n",
      "693/693 [==============================] - 190s 274ms/step - loss: 0.0077 - precision: 0.8307 - recall: 0.6889 - auc_1: 0.9689 - val_loss: 0.0106 - val_precision: 0.8590 - val_recall: 0.6377 - val_auc_1: 0.9514 - lr: 0.0150\n",
      "Epoch 18/30\n",
      "693/693 [==============================] - 200s 289ms/step - loss: 0.0072 - precision: 0.8395 - recall: 0.6913 - auc_1: 0.9710 - val_loss: 0.0119 - val_precision: 0.8081 - val_recall: 0.6370 - val_auc_1: 0.9516 - lr: 0.0150\n",
      "Epoch 19/30\n",
      "693/693 [==============================] - 202s 291ms/step - loss: 0.0076 - precision: 0.8315 - recall: 0.6815 - auc_1: 0.9690 - val_loss: 0.0132 - val_precision: 0.7630 - val_recall: 0.6712 - val_auc_1: 0.9573 - lr: 0.0150\n",
      "Epoch 20/30\n",
      "693/693 [==============================] - 205s 295ms/step - loss: 0.0057 - precision: 0.8906 - recall: 0.7063 - auc_1: 0.9803 - val_loss: 0.0099 - val_precision: 0.8819 - val_recall: 0.6806 - val_auc_1: 0.9659 - lr: 0.0015\n",
      "Epoch 21/30\n",
      "693/693 [==============================] - 206s 297ms/step - loss: 0.0049 - precision: 0.9081 - recall: 0.7194 - auc_1: 0.9859 - val_loss: 0.0097 - val_precision: 0.8737 - val_recall: 0.7028 - val_auc_1: 0.9683 - lr: 0.0015\n",
      "Epoch 22/30\n",
      "693/693 [==============================] - 194s 281ms/step - loss: 0.0047 - precision: 0.9098 - recall: 0.7255 - auc_1: 0.9868 - val_loss: 0.0095 - val_precision: 0.8848 - val_recall: 0.6934 - val_auc_1: 0.9674 - lr: 0.0015\n",
      "Epoch 23/30\n",
      "693/693 [==============================] - 202s 292ms/step - loss: 0.0046 - precision: 0.9112 - recall: 0.7294 - auc_1: 0.9875 - val_loss: 0.0095 - val_precision: 0.8845 - val_recall: 0.6993 - val_auc_1: 0.9675 - lr: 0.0015\n",
      "Epoch 24/30\n",
      "693/693 [==============================] - 200s 288ms/step - loss: 0.0046 - precision: 0.9112 - recall: 0.7311 - auc_1: 0.9874 - val_loss: 0.0094 - val_precision: 0.8845 - val_recall: 0.7010 - val_auc_1: 0.9673 - lr: 0.0015\n",
      "Epoch 25/30\n",
      "693/693 [==============================] - 188s 271ms/step - loss: 0.0045 - precision: 0.9114 - recall: 0.7331 - auc_1: 0.9874 - val_loss: 0.0094 - val_precision: 0.8824 - val_recall: 0.7019 - val_auc_1: 0.9664 - lr: 0.0015\n",
      "Epoch 26/30\n",
      "693/693 [==============================] - 183s 265ms/step - loss: 0.0045 - precision: 0.9120 - recall: 0.7337 - auc_1: 0.9877 - val_loss: 0.0094 - val_precision: 0.8833 - val_recall: 0.7026 - val_auc_1: 0.9664 - lr: 0.0015\n",
      "Epoch 27/30\n",
      "693/693 [==============================] - 184s 265ms/step - loss: 0.0045 - precision: 0.9121 - recall: 0.7358 - auc_1: 0.9875 - val_loss: 0.0094 - val_precision: 0.8848 - val_recall: 0.7040 - val_auc_1: 0.9660 - lr: 0.0015\n",
      "Epoch 28/30\n",
      "693/693 [==============================] - 191s 276ms/step - loss: 0.0044 - precision: 0.9111 - recall: 0.7375 - auc_1: 0.9876 - val_loss: 0.0094 - val_precision: 0.8839 - val_recall: 0.7040 - val_auc_1: 0.9669 - lr: 0.0015\n",
      "Epoch 29/30\n",
      "693/693 [==============================] - 191s 276ms/step - loss: 0.0044 - precision: 0.9130 - recall: 0.7381 - auc_1: 0.9878 - val_loss: 0.0094 - val_precision: 0.8853 - val_recall: 0.7057 - val_auc_1: 0.9666 - lr: 0.0015\n",
      "Epoch 30/30\n",
      "693/693 [==============================] - 181s 262ms/step - loss: 0.0042 - precision: 0.9187 - recall: 0.7445 - auc_1: 0.9888 - val_loss: 0.0094 - val_precision: 0.8904 - val_recall: 0.7046 - val_auc_1: 0.9666 - lr: 1.5000e-04\n"
     ]
    }
   ],
   "source": [
    "history = model.fit(X_train, y_train, epochs=30, batch_size=32, validation_split=0.3, callbacks=callbacks)\n"
   ]
  },
  {
   "cell_type": "code",
   "execution_count": 58,
   "metadata": {},
   "outputs": [
    {
     "data": {
      "image/png": "[encoded data removed]",
      "text/plain": [
       "<Figure size 432x288 with 1 Axes>"
      ]
     },
     "metadata": {
      "needs_background": "light"
     },
     "output_type": "display_data"
    },
    {
     "data": {
      "image/png": "[encoded data removed]",
      "text/plain": [
       "<Figure size 432x288 with 1 Axes>"
      ]
     },
     "metadata": {
      "needs_background": "light"
     },
     "output_type": "display_data"
    }
   ],
   "source": [
    "plt.plot(history.history[\"loss\"], label=\"Training Loss\") \n",
    "plt.plot(history.history[\"val_loss\"], label=\"Validation Loss\")\n",
    "plt.legend()\n",
    "plt.show()\n",
    "# Plotting accuracy wrt epochs(time)\n",
    "plt.plot(history.history[\"precision\"], label=\"Training accuracy\")\n",
    "plt.plot(history.history[\"val_precision\"], label=\"val_accuracy\")\n",
    "plt.legend()\n",
    "plt.show() "
   ]
  },
  {
   "cell_type": "code",
   "execution_count": 12,
   "metadata": {
    "id": "S0k80g2EFjtg"
   },
   "outputs": [],
   "source": [
    "from keras.layers import Activation, Flatten, Conv1D"
   ]
  },
  {
   "cell_type": "code",
   "execution_count": 13,
   "metadata": {
    "colab": {
     "base_uri": "https://localhost:8080/"
    },
    "id": "lUfDFsMp7ToP",
    "outputId": "440e01ab-f0fc-471c-876d-63da76ed7c39"
   },
   "outputs": [
    {
     "name": "stderr",
     "output_type": "stream",
     "text": [
      "2022-08-23 03:21:32.232097: W tensorflow/stream_executor/platform/default/dso_loader.cc:64] Could not load dynamic library 'libcuda.so.1'; dlerror: libcuda.so.1: cannot open shared object file: No such file or directory\n",
      "2022-08-23 03:21:32.233072: W tensorflow/stream_executor/cuda/cuda_driver.cc:269] failed call to cuInit: UNKNOWN ERROR (303)\n",
      "2022-08-23 03:21:32.234796: I tensorflow/stream_executor/cuda/cuda_diagnostics.cc:156] kernel driver does not appear to be running on this host (ivan-HP-Laptop-15-bs1xx): /proc/driver/nvidia/version does not exist\n",
      "2022-08-23 03:21:32.248504: I tensorflow/core/platform/cpu_feature_guard.cc:193] This TensorFlow binary is optimized with oneAPI Deep Neural Network Library (oneDNN) to use the following CPU instructions in performance-critical operations:  AVX2 FMA\n",
      "To enable them in other operations, rebuild TensorFlow with the appropriate compiler flags.\n"
     ]
    },
    {
     "name": "stdout",
     "output_type": "stream",
     "text": [
      "Model: \"sequential\"\n",
      "_________________________________________________________________\n",
      " Layer (type)                Output Shape              Param #   \n",
      "=================================================================\n",
      " embedding (Embedding)       (None, 57, 300)           12286200  \n",
      "                                                                 \n",
      " dropout (Dropout)           (None, 57, 300)           0         \n",
      "                                                                 \n",
      " conv1d (Conv1D)             (None, 55, 300)           270300    \n",
      "                                                                 \n",
      " global_max_pooling1d (Globa  (None, 300)              0         \n",
      " lMaxPooling1D)                                                  \n",
      "                                                                 \n",
      " dropout_1 (Dropout)         (None, 300)               0         \n",
      "                                                                 \n",
      " dense (Dense)               (None, 887)               266987    \n",
      "                                                                 \n",
      " activation (Activation)     (None, 887)               0         \n",
      "                                                                 \n",
      "=================================================================\n",
      "Total params: 12,823,487\n",
      "Trainable params: 12,823,487\n",
      "Non-trainable params: 0\n",
      "_________________________________________________________________\n"
     ]
    }
   ],
   "source": [
    "optimizer = tf.keras.optimizers.Adam()\n",
    "\n",
    "model = Sequential()\n",
    "model.add(Embedding(max_words, 300, input_length=maxlen))\n",
    "model.add(Dropout(0.21))\n",
    "model.add(Conv1D(300, 3, padding='valid', activation='relu', strides=1))\n",
    "model.add(GlobalMaxPool1D()) # This layer creates a convolution kernel that is convolved with the layer input over a single spatial (or temporal) dimension to produce a tensor of outputs.\n",
    "model.add(Dropout(0.21))\n",
    "model.add(Dense(num_classes))\n",
    "model.add(Activation('sigmoid'))\n",
    "\n",
    "model.compile(optimizer='adam', loss='binary_crossentropy', metrics=['Precision','Recall', tf.keras.metrics.AUC()])\n",
    "\n",
    "callbacks = [\n",
    "    ReduceLROnPlateau(),\n",
    "    ModelCheckpoint(filepath='model-conv1d.h5', save_best_only=True)\n",
    "]\n",
    "\n",
    "model.summary()"
   ]
  },
  {
   "cell_type": "code",
   "execution_count": 14,
   "metadata": {
    "colab": {
     "base_uri": "https://localhost:8080/",
     "height": 865
    },
    "id": "Bi60HgXUEAW6",
    "outputId": "bb129638-e26f-457f-bf8a-a0b4551c41d5"
   },
   "outputs": [
    {
     "name": "stdout",
     "output_type": "stream",
     "text": [
      "You must install pydot (`pip install pydot`) and install graphviz (see instructions at https://graphviz.gitlab.io/download/) for plot_model/model_to_dot to work.\n"
     ]
    }
   ],
   "source": [
    "plot_model(model, to_file='model_nn_plot.png', show_shapes=True, show_layer_names=True)"
   ]
  },
  {
   "cell_type": "code",
   "execution_count": 15,
   "metadata": {
    "colab": {
     "base_uri": "https://localhost:8080/"
    },
    "id": "XvVJGrkFEJVd",
    "outputId": "c9b28cd2-5091-4a53-89ba-094aa70b9326"
   },
   "outputs": [
    {
     "name": "stdout",
     "output_type": "stream",
     "text": [
      "Epoch 1/50\n",
      "693/693 [==============================] - 194s 277ms/step - loss: 0.0309 - precision: 0.1677 - recall: 0.1019 - auc: 0.8125 - val_loss: 0.0136 - val_precision: 0.9086 - val_recall: 0.3006 - val_auc: 0.8982 - lr: 0.0010\n",
      "Epoch 2/50\n",
      "693/693 [==============================] - 187s 270ms/step - loss: 0.0106 - precision: 0.8844 - recall: 0.4345 - auc: 0.9304 - val_loss: 0.0077 - val_precision: 0.8936 - val_recall: 0.5797 - val_auc: 0.9663 - lr: 0.0010\n",
      "Epoch 3/50\n",
      "693/693 [==============================] - 189s 272ms/step - loss: 0.0066 - precision: 0.9029 - recall: 0.6212 - auc: 0.9719 - val_loss: 0.0054 - val_precision: 0.9107 - val_recall: 0.7005 - val_auc: 0.9815 - lr: 0.0010\n",
      "Epoch 4/50\n",
      "693/693 [==============================] - 189s 273ms/step - loss: 0.0047 - precision: 0.9150 - recall: 0.7163 - auc: 0.9857 - val_loss: 0.0044 - val_precision: 0.9198 - val_recall: 0.7529 - val_auc: 0.9844 - lr: 0.0010\n",
      "Epoch 5/50\n",
      "693/693 [==============================] - 190s 274ms/step - loss: 0.0037 - precision: 0.9248 - recall: 0.7740 - auc: 0.9914 - val_loss: 0.0039 - val_precision: 0.9195 - val_recall: 0.7917 - val_auc: 0.9860 - lr: 0.0010\n",
      "Epoch 6/50\n",
      "693/693 [==============================] - 190s 274ms/step - loss: 0.0030 - precision: 0.9329 - recall: 0.8161 - auc: 0.9942 - val_loss: 0.0036 - val_precision: 0.9229 - val_recall: 0.8143 - val_auc: 0.9858 - lr: 0.0010\n",
      "Epoch 7/50\n",
      "693/693 [==============================] - 189s 273ms/step - loss: 0.0025 - precision: 0.9404 - recall: 0.8452 - auc: 0.9959 - val_loss: 0.0035 - val_precision: 0.9197 - val_recall: 0.8269 - val_auc: 0.9851 - lr: 0.0010\n",
      "Epoch 8/50\n",
      "693/693 [==============================] - 189s 273ms/step - loss: 0.0021 - precision: 0.9465 - recall: 0.8708 - auc: 0.9969 - val_loss: 0.0035 - val_precision: 0.9112 - val_recall: 0.8463 - val_auc: 0.9853 - lr: 0.0010\n",
      "Epoch 9/50\n",
      "693/693 [==============================] - 190s 274ms/step - loss: 0.0018 - precision: 0.9521 - recall: 0.8892 - auc: 0.9975 - val_loss: 0.0034 - val_precision: 0.9155 - val_recall: 0.8477 - val_auc: 0.9839 - lr: 0.0010\n",
      "Epoch 10/50\n",
      "693/693 [==============================] - 189s 272ms/step - loss: 0.0016 - precision: 0.9550 - recall: 0.9050 - auc: 0.9982 - val_loss: 0.0035 - val_precision: 0.9111 - val_recall: 0.8603 - val_auc: 0.9837 - lr: 0.0010\n",
      "Epoch 11/50\n",
      "693/693 [==============================] - 189s 273ms/step - loss: 0.0014 - precision: 0.9590 - recall: 0.9180 - auc: 0.9985 - val_loss: 0.0035 - val_precision: 0.9150 - val_recall: 0.8579 - val_auc: 0.9821 - lr: 0.0010\n",
      "Epoch 12/50\n",
      "693/693 [==============================] - 189s 272ms/step - loss: 0.0012 - precision: 0.9635 - recall: 0.9302 - auc: 0.9987 - val_loss: 0.0036 - val_precision: 0.9020 - val_recall: 0.8714 - val_auc: 0.9824 - lr: 0.0010\n",
      "Epoch 13/50\n",
      "693/693 [==============================] - 189s 273ms/step - loss: 0.0011 - precision: 0.9666 - recall: 0.9399 - auc: 0.9990 - val_loss: 0.0037 - val_precision: 0.9017 - val_recall: 0.8730 - val_auc: 0.9816 - lr: 0.0010\n",
      "Epoch 14/50\n",
      "693/693 [==============================] - 189s 273ms/step - loss: 9.5121e-04 - precision: 0.9702 - recall: 0.9467 - auc: 0.9992 - val_loss: 0.0037 - val_precision: 0.9056 - val_recall: 0.8697 - val_auc: 0.9801 - lr: 0.0010\n",
      "Epoch 15/50\n",
      "693/693 [==============================] - 189s 273ms/step - loss: 8.5492e-04 - precision: 0.9715 - recall: 0.9523 - auc: 0.9992 - val_loss: 0.0038 - val_precision: 0.9078 - val_recall: 0.8710 - val_auc: 0.9784 - lr: 0.0010\n",
      "Epoch 16/50\n",
      "693/693 [==============================] - 189s 273ms/step - loss: 7.5349e-04 - precision: 0.9744 - recall: 0.9592 - auc: 0.9995 - val_loss: 0.0038 - val_precision: 0.9077 - val_recall: 0.8728 - val_auc: 0.9778 - lr: 0.0010\n",
      "Epoch 17/50\n",
      "693/693 [==============================] - 190s 274ms/step - loss: 6.8450e-04 - precision: 0.9763 - recall: 0.9631 - auc: 0.9995 - val_loss: 0.0040 - val_precision: 0.9023 - val_recall: 0.8761 - val_auc: 0.9771 - lr: 0.0010\n",
      "Epoch 18/50\n",
      "693/693 [==============================] - 190s 274ms/step - loss: 6.3066e-04 - precision: 0.9776 - recall: 0.9665 - auc: 0.9996 - val_loss: 0.0041 - val_precision: 0.8985 - val_recall: 0.8793 - val_auc: 0.9774 - lr: 0.0010\n",
      "Epoch 19/50\n",
      "693/693 [==============================] - 190s 274ms/step - loss: 4.8673e-04 - precision: 0.9831 - recall: 0.9761 - auc: 0.9997 - val_loss: 0.0040 - val_precision: 0.9117 - val_recall: 0.8749 - val_auc: 0.9764 - lr: 1.0000e-04\n",
      "Epoch 20/50\n",
      "693/693 [==============================] - 190s 274ms/step - loss: 4.1757e-04 - precision: 0.9863 - recall: 0.9791 - auc: 0.9998 - val_loss: 0.0040 - val_precision: 0.9133 - val_recall: 0.8754 - val_auc: 0.9762 - lr: 1.0000e-04\n",
      "Epoch 21/50\n",
      "693/693 [==============================] - 189s 273ms/step - loss: 3.9307e-04 - precision: 0.9867 - recall: 0.9808 - auc: 0.9999 - val_loss: 0.0040 - val_precision: 0.9079 - val_recall: 0.8790 - val_auc: 0.9768 - lr: 1.0000e-04\n",
      "Epoch 22/50\n",
      "693/693 [==============================] - 190s 274ms/step - loss: 3.8077e-04 - precision: 0.9868 - recall: 0.9816 - auc: 0.9999 - val_loss: 0.0040 - val_precision: 0.9142 - val_recall: 0.8755 - val_auc: 0.9760 - lr: 1.0000e-04\n",
      "Epoch 23/50\n",
      "693/693 [==============================] - 190s 274ms/step - loss: 3.6259e-04 - precision: 0.9883 - recall: 0.9825 - auc: 0.9999 - val_loss: 0.0040 - val_precision: 0.9139 - val_recall: 0.8755 - val_auc: 0.9759 - lr: 1.0000e-04\n",
      "Epoch 24/50\n",
      "693/693 [==============================] - 190s 274ms/step - loss: 3.5507e-04 - precision: 0.9880 - recall: 0.9828 - auc: 0.9999 - val_loss: 0.0040 - val_precision: 0.9150 - val_recall: 0.8748 - val_auc: 0.9754 - lr: 1.0000e-04\n",
      "Epoch 25/50\n",
      "693/693 [==============================] - 190s 274ms/step - loss: 3.3475e-04 - precision: 0.9888 - recall: 0.9836 - auc: 0.9999 - val_loss: 0.0040 - val_precision: 0.9130 - val_recall: 0.8769 - val_auc: 0.9755 - lr: 1.0000e-04\n",
      "Epoch 26/50\n",
      "693/693 [==============================] - 189s 273ms/step - loss: 3.3440e-04 - precision: 0.9884 - recall: 0.9840 - auc: 0.9999 - val_loss: 0.0040 - val_precision: 0.9143 - val_recall: 0.8762 - val_auc: 0.9754 - lr: 1.0000e-04\n",
      "Epoch 27/50\n",
      "693/693 [==============================] - 190s 274ms/step - loss: 3.3049e-04 - precision: 0.9888 - recall: 0.9843 - auc: 0.9999 - val_loss: 0.0040 - val_precision: 0.9151 - val_recall: 0.8755 - val_auc: 0.9751 - lr: 1.0000e-04\n",
      "Epoch 28/50\n",
      "693/693 [==============================] - 190s 274ms/step - loss: 3.1439e-04 - precision: 0.9894 - recall: 0.9847 - auc: 0.9999 - val_loss: 0.0041 - val_precision: 0.9143 - val_recall: 0.8763 - val_auc: 0.9749 - lr: 1.0000e-04\n",
      "Epoch 29/50\n",
      "693/693 [==============================] - 190s 274ms/step - loss: 3.0568e-04 - precision: 0.9895 - recall: 0.9861 - auc: 0.9999 - val_loss: 0.0041 - val_precision: 0.9148 - val_recall: 0.8762 - val_auc: 0.9749 - lr: 1.0000e-05\n",
      "Epoch 30/50\n",
      "693/693 [==============================] - 189s 273ms/step - loss: 2.9764e-04 - precision: 0.9902 - recall: 0.9857 - auc: 0.9999 - val_loss: 0.0041 - val_precision: 0.9145 - val_recall: 0.8764 - val_auc: 0.9749 - lr: 1.0000e-05\n",
      "Epoch 31/50\n",
      "693/693 [==============================] - 189s 273ms/step - loss: 2.9566e-04 - precision: 0.9898 - recall: 0.9866 - auc: 0.9999 - val_loss: 0.0041 - val_precision: 0.9151 - val_recall: 0.8761 - val_auc: 0.9748 - lr: 1.0000e-05\n",
      "Epoch 32/50\n",
      "693/693 [==============================] - 190s 274ms/step - loss: 2.9853e-04 - precision: 0.9899 - recall: 0.9861 - auc: 1.0000 - val_loss: 0.0041 - val_precision: 0.9141 - val_recall: 0.8764 - val_auc: 0.9749 - lr: 1.0000e-05\n",
      "Epoch 33/50\n",
      "693/693 [==============================] - 190s 274ms/step - loss: 2.9444e-04 - precision: 0.9899 - recall: 0.9865 - auc: 1.0000 - val_loss: 0.0041 - val_precision: 0.9148 - val_recall: 0.8761 - val_auc: 0.9748 - lr: 1.0000e-05\n",
      "Epoch 34/50\n",
      "693/693 [==============================] - 190s 274ms/step - loss: 2.9762e-04 - precision: 0.9892 - recall: 0.9866 - auc: 1.0000 - val_loss: 0.0041 - val_precision: 0.9155 - val_recall: 0.8758 - val_auc: 0.9748 - lr: 1.0000e-05\n",
      "Epoch 35/50\n",
      "693/693 [==============================] - 190s 274ms/step - loss: 2.9024e-04 - precision: 0.9899 - recall: 0.9865 - auc: 0.9999 - val_loss: 0.0041 - val_precision: 0.9154 - val_recall: 0.8757 - val_auc: 0.9747 - lr: 1.0000e-05\n",
      "Epoch 36/50\n",
      "693/693 [==============================] - 189s 273ms/step - loss: 2.9565e-04 - precision: 0.9899 - recall: 0.9858 - auc: 1.0000 - val_loss: 0.0041 - val_precision: 0.9143 - val_recall: 0.8762 - val_auc: 0.9748 - lr: 1.0000e-05\n",
      "Epoch 37/50\n",
      "693/693 [==============================] - 190s 274ms/step - loss: 2.9333e-04 - precision: 0.9900 - recall: 0.9863 - auc: 1.0000 - val_loss: 0.0041 - val_precision: 0.9150 - val_recall: 0.8758 - val_auc: 0.9748 - lr: 1.0000e-05\n",
      "Epoch 38/50\n",
      "693/693 [==============================] - 190s 274ms/step - loss: 2.9612e-04 - precision: 0.9897 - recall: 0.9858 - auc: 0.9999 - val_loss: 0.0041 - val_precision: 0.9148 - val_recall: 0.8761 - val_auc: 0.9747 - lr: 1.0000e-05\n",
      "Epoch 39/50\n",
      "693/693 [==============================] - 190s 274ms/step - loss: 2.8888e-04 - precision: 0.9907 - recall: 0.9863 - auc: 0.9999 - val_loss: 0.0041 - val_precision: 0.9148 - val_recall: 0.8762 - val_auc: 0.9747 - lr: 1.0000e-06\n",
      "Epoch 40/50\n",
      "693/693 [==============================] - 190s 274ms/step - loss: 2.8685e-04 - precision: 0.9899 - recall: 0.9871 - auc: 1.0000 - val_loss: 0.0041 - val_precision: 0.9148 - val_recall: 0.8762 - val_auc: 0.9747 - lr: 1.0000e-06\n",
      "Epoch 41/50\n",
      "693/693 [==============================] - 190s 274ms/step - loss: 2.9182e-04 - precision: 0.9901 - recall: 0.9863 - auc: 1.0000 - val_loss: 0.0041 - val_precision: 0.9150 - val_recall: 0.8761 - val_auc: 0.9747 - lr: 1.0000e-06\n",
      "Epoch 42/50\n",
      "693/693 [==============================] - 190s 274ms/step - loss: 2.9135e-04 - precision: 0.9899 - recall: 0.9866 - auc: 1.0000 - val_loss: 0.0041 - val_precision: 0.9149 - val_recall: 0.8761 - val_auc: 0.9747 - lr: 1.0000e-06\n",
      "Epoch 43/50\n",
      "693/693 [==============================] - 190s 275ms/step - loss: 2.8699e-04 - precision: 0.9906 - recall: 0.9862 - auc: 1.0000 - val_loss: 0.0041 - val_precision: 0.9150 - val_recall: 0.8761 - val_auc: 0.9747 - lr: 1.0000e-06\n",
      "Epoch 44/50\n",
      "693/693 [==============================] - 190s 274ms/step - loss: 2.9004e-04 - precision: 0.9906 - recall: 0.9862 - auc: 1.0000 - val_loss: 0.0041 - val_precision: 0.9151 - val_recall: 0.8761 - val_auc: 0.9747 - lr: 1.0000e-06\n",
      "Epoch 45/50\n",
      "693/693 [==============================] - 190s 275ms/step - loss: 2.9176e-04 - precision: 0.9894 - recall: 0.9865 - auc: 0.9999 - val_loss: 0.0041 - val_precision: 0.9152 - val_recall: 0.8759 - val_auc: 0.9747 - lr: 1.0000e-06\n",
      "Epoch 46/50\n",
      "693/693 [==============================] - 190s 274ms/step - loss: 2.8985e-04 - precision: 0.9901 - recall: 0.9867 - auc: 0.9999 - val_loss: 0.0041 - val_precision: 0.9152 - val_recall: 0.8759 - val_auc: 0.9747 - lr: 1.0000e-06\n",
      "Epoch 47/50\n",
      "693/693 [==============================] - 190s 274ms/step - loss: 2.9034e-04 - precision: 0.9903 - recall: 0.9865 - auc: 1.0000 - val_loss: 0.0041 - val_precision: 0.9151 - val_recall: 0.8759 - val_auc: 0.9746 - lr: 1.0000e-06\n",
      "Epoch 48/50\n",
      "693/693 [==============================] - 190s 274ms/step - loss: 2.8939e-04 - precision: 0.9898 - recall: 0.9868 - auc: 1.0000 - val_loss: 0.0041 - val_precision: 0.9151 - val_recall: 0.8758 - val_auc: 0.9747 - lr: 1.0000e-06\n",
      "Epoch 49/50\n",
      "693/693 [==============================] - 190s 274ms/step - loss: 2.9115e-04 - precision: 0.9906 - recall: 0.9863 - auc: 0.9999 - val_loss: 0.0041 - val_precision: 0.9151 - val_recall: 0.8758 - val_auc: 0.9747 - lr: 1.0000e-07\n",
      "Epoch 50/50\n",
      "693/693 [==============================] - 189s 273ms/step - loss: 2.8771e-04 - precision: 0.9903 - recall: 0.9869 - auc: 1.0000 - val_loss: 0.0041 - val_precision: 0.9151 - val_recall: 0.8758 - val_auc: 0.9747 - lr: 1.0000e-07\n"
     ]
    }
   ],
   "source": [
    "history = model.fit(X_train, y_train,\n",
    "                    epochs=50,\n",
    "                    batch_size=32,\n",
    "                    validation_split=0.3,\n",
    "                    callbacks=callbacks)"
   ]
  },
  {
   "cell_type": "code",
   "execution_count": 52,
   "metadata": {},
   "outputs": [],
   "source": [
    "import matplotlib.pyplot as plt\n"
   ]
  },
  {
   "cell_type": "code",
   "execution_count": 55,
   "metadata": {},
   "outputs": [
    {
     "data": {
      "image/png": "[encoded data removed]",
      "text/plain": [
       "<Figure size 432x288 with 1 Axes>"
      ]
     },
     "metadata": {
      "needs_background": "light"
     },
     "output_type": "display_data"
    },
    {
     "data": {
      "image/png": "[encoded data removed]",
      "text/plain": [
       "<Figure size 432x288 with 1 Axes>"
      ]
     },
     "metadata": {
      "needs_background": "light"
     },
     "output_type": "display_data"
    }
   ],
   "source": [
    "plt.plot(history.history[\"loss\"], label=\"Training Loss\") \n",
    "plt.plot(history.history[\"val_loss\"], label=\"Validation Loss\")\n",
    "plt.legend()\n",
    "plt.show()\n",
    "# Plotting accuracy wrt epochs(time)\n",
    "plt.plot(history.history[\"precision\"], label=\"Training accuracy\")\n",
    "plt.plot(history.history[\"val_precision\"], label=\"val_accuracy\")\n",
    "plt.legend()\n",
    "plt.show() "
   ]
  },
  {
   "cell_type": "code",
   "execution_count": 16,
   "metadata": {
    "id": "Q7XT7_A4WKGf"
   },
   "outputs": [],
   "source": [
    "def get_standar_metrics(predictions, y_test):\n",
    "  a = tranform_binary(predictions)\n",
    "  print(\"Evaluation Metrics\")\n",
    "  print('-'*30)\n",
    "  print(\"F1 Score:\",metrics.f1_score(y_test, a, average=\"micro\"))\n",
    "  print(\"Recall Score:\",metrics.recall_score(y_test, a, average=\"micro\"))\n",
    "  print(\"Precision Score:\",metrics.precision_score(y_test, a, average=\"micro\"))\n",
    "  print(\"Hamming Loss:\",metrics.hamming_loss(y_test, a), \"\\n\")"
   ]
  },
  {
   "cell_type": "code",
   "execution_count": 17,
   "metadata": {
    "id": "n6wiLjzDWWCd"
   },
   "outputs": [],
   "source": [
    "def tranform_binary(predictions):\n",
    "    a = predictions.tolist()\n",
    "    for i in range(len(a)):\n",
    "        for j in range(len(a[i])):\n",
    "            if a[i][j] >= 0.5:\n",
    "                a[i][j] = 1\n",
    "            else:\n",
    "                a[i][j] = 0\n",
    "\n",
    "    a = np.array(a)\n",
    "    return a"
   ]
  },
  {
   "cell_type": "code",
   "execution_count": 18,
   "metadata": {
    "colab": {
     "base_uri": "https://localhost:8080/",
     "height": 208
    },
    "id": "JAqYdUXUVrS5",
    "outputId": "e8881ba7-425a-4ac5-b035-3dbfc47e3a5a"
   },
   "outputs": [
    {
     "name": "stdout",
     "output_type": "stream",
     "text": [
      "425/425 [==============================] - 5s 11ms/step\n",
      "Evaluation Metrics\n",
      "------------------------------\n",
      "F1 Score: 0.8935396611580204\n",
      "Recall Score: 0.8724896806895224\n",
      "Precision Score: 0.915630470889258\n",
      "Hamming Loss: 0.000807501750237823 \n",
      "\n"
     ]
    }
   ],
   "source": [
    "#Model Evaluation with Standar Metrics\n",
    "predictions = model.predict(X_test, batch_size=32)\n",
    "get_standar_metrics(predictions, y_test)"
   ]
  },
  {
   "cell_type": "code",
   "execution_count": 19,
   "metadata": {},
   "outputs": [],
   "source": [
    "modeloF =  keras.models.load_model('model-conv1d.h5')"
   ]
  },
  {
   "cell_type": "code",
   "execution_count": 40,
   "metadata": {},
   "outputs": [
    {
     "name": "stdout",
     "output_type": "stream",
     "text": [
      "WARNING:tensorflow:5 out of the last 429 calls to <function Model.make_predict_function.<locals>.predict_function at 0x7f2a397d1790> triggered tf.function retracing. Tracing is expensive and the excessive number of tracings could be due to (1) creating @tf.function repeatedly in a loop, (2) passing tensors with different shapes, (3) passing Python objects instead of tensors. For (1), please define your @tf.function outside of the loop. For (2), @tf.function has reduce_retracing=True option that can avoid unnecessary retracing. For (3), please refer to https://www.tensorflow.org/guide/function#controlling_retracing and https://www.tensorflow.org/api_docs/python/tf/function for  more details.\n",
      "1/1 [==============================] - 0s 106ms/step\n"
     ]
    }
   ],
   "source": [
    "inp = 'Lenovo - 2022 - IdeaPad 3i - Essential Computer - Intel Core i5-15.6\" FHD Display - 8GB Memory - 512GB Storage - Windows 11 Pro.'\n",
    "\n",
    "x = tokenizer.texts_to_sequences([inp])\n",
    "\n",
    "x = pad_sequences(x)\n",
    "\n",
    "pre = modeloF.predict(x)"
   ]
  },
  {
   "cell_type": "code",
   "execution_count": 41,
   "metadata": {},
   "outputs": [
    {
     "data": {
      "text/plain": [
       "['tokenizer.plk']"
      ]
     },
     "execution_count": 41,
     "metadata": {},
     "output_type": "execute_result"
    }
   ],
   "source": [
    "\n",
    "joblib.dump(tokenizer,'tokenizer.plk')"
   ]
  },
  {
   "cell_type": "code",
   "execution_count": 42,
   "metadata": {},
   "outputs": [],
   "source": [
    "predScores = [score for pred in pre for score in pred]\n",
    "\n",
    "predDict = {}\n",
    "for cla,score in zip(df.columns[1:],predScores):\n",
    "        predDict[cla] = score"
   ]
  },
  {
   "cell_type": "code",
   "execution_count": 43,
   "metadata": {},
   "outputs": [
    {
     "data": {
      "text/plain": [
       "[('Computers & Tablets', 0.9990107),\n",
       " ('Computer Accessories & Peripherals', 0.929574),\n",
       " ('Laptops', 0.84376436),\n",
       " ('All Laptops', 0.8122537),\n",
       " ('Laptop Accessories', 0.71619064)]"
      ]
     },
     "execution_count": 43,
     "metadata": {},
     "output_type": "execute_result"
    }
   ],
   "source": [
    "import operator\n",
    "sorted(predDict.items(), key=operator.itemgetter(1),reverse=True)[:5]"
   ]
  },
  {
   "cell_type": "code",
   "execution_count": 46,
   "metadata": {},
   "outputs": [],
   "source": [
    "def ModelPrediction(text):\n",
    "\n",
    "    tokenizer = joblib.load('tokenizer.plk')\n",
    "\n",
    "    sequence = tokenizer.texts_to_sequences([text])\n",
    "\n",
    "    sequence = pad_sequences(x,maxlen=57)\n",
    "\n",
    "    model = keras.models.load_model('model-conv1d.h5')\n",
    "\n",
    "    prediction = model.predict(sequence)\n",
    "    \n",
    "    predScores = [score for pred in prediction for score in pred]\n",
    "\n",
    "    predDict = {}\n",
    "\n",
    "    for cla,score in zip(df.columns[1:],predScores):\n",
    "        \n",
    "        predDict[cla] = score\n",
    "    \n",
    "    preSort = sorted(predDict.items(), key=operator.itemgetter(1),reverse=True)[:3]\n",
    "\n",
    "\n",
    "    result = []\n",
    "    for i in preSort:\n",
    "        \n",
    "        if i[1] > 0.80:\n",
    "            \n",
    "            result.append(i[0])\n",
    "\n",
    "    return result"
   ]
  },
  {
   "cell_type": "code",
   "execution_count": 47,
   "metadata": {},
   "outputs": [
    {
     "name": "stdout",
     "output_type": "stream",
     "text": [
      "1/1 [==============================] - 0s 116ms/step\n"
     ]
    },
    {
     "data": {
      "text/plain": [
       "['Computers & Tablets', 'Computer Accessories & Peripherals']"
      ]
     },
     "execution_count": 47,
     "metadata": {},
     "output_type": "execute_result"
    }
   ],
   "source": [
    "ModelPrediction(inp)\n",
    "    "
   ]
  }
 ],
 "metadata": {
  "colab": {
   "name": "Untitled5.ipynb",
   "provenance": []
  },
  "kernelspec": {
   "display_name": "Python 3 (ipykernel)",
   "language": "python",
   "name": "python3"
  },
  "language_info": {
   "codemirror_mode": {
    "name": "ipython",
    "version": 3
   },
   "file_extension": ".py",
   "mimetype": "text/x-python",
   "name": "python",
   "nbconvert_exporter": "python",
   "pygments_lexer": "ipython3",
   "version": "3.8.10"
  },
  "vscode": {
   "interpreter": {
    "hash": "31f2aee4e71d21fbe5cf8b01ff0e069b9275f58929596ceb00d14d90e3e16cd6"
   }
  }
 },
 "nbformat": 4,
 "nbformat_minor": 1
}
